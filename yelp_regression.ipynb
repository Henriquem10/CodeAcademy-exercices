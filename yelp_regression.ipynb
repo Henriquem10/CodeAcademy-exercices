{
 "cells": [
  {
   "cell_type": "markdown",
   "metadata": {},
   "source": [
    "# Project: Yelp Rating Regression Predictor\n",
    "\n",
    "The restaurant industry is tougher than ever, with restaurant reviews blazing across the Internet from day one of a restaurant's opening. But as a lover of food, you and your friend decide to break into the industry and open up your own restaurant, Danielle's Delicious Delicacies. Since a restaurant's success is highly correlated with its reputation, you want to make sure Danielle's Delicious Delicacies has the best reviews on the most queried restaurant review site: Yelp! While you know your food will be delicious, you think there are other factors that play into a Yelp rating and will ultimately determine your business's success. With a dataset of different restaurant features and their Yelp ratings, you decide to use a Multiple Linear Regression model to investigate what factors most affect a restaurant's Yelp rating and predict the Yelp rating for your restaurant!\n",
    "\n",
    "In this project we'll be working with a real dataset provided by Yelp. We have provided six files, listed below with a brief description:\n",
    "* `yelp_business.json`: establishment data regarding location and attributes for all businesses in the dataset\n",
    "* `yelp_review.json`: Yelp review metadata by business\n",
    "* `yelp_user.json`: user profile metadata by business\n",
    "* `yelp_checkin.json`: online checkin metadata by business\n",
    "* `yelp_tip.json`: tip metadata by business\n",
    "* `yelp_photo.json`: photo metadata by business\n",
    "\n",
    "For a more detailed explanation of the features in each `.json` file, see the accompanying [explanatory feature document](https://docs.google.com/document/d/1V6FjJpKspVBOOBs4E7fBfp_yzHn0--XJkC2uUtWuRgM/edit).\n",
    "\n",
    "Let's get started by exploring the data in each of these files to see what we are working with."
   ]
  },
  {
   "cell_type": "markdown",
   "metadata": {},
   "source": [
    "## Load the Data and Take a Peek\n",
    "\n",
    "To get a better understanding of the dataset we can use Pandas to explore the data in DataFrame form. In the code block below we have imported Pandas for you. The `read_json()` method reads data from a json file into a DataFrame, as shown below:\n",
    "```python\n",
    "df = pd.read_json('file_name.json', lines=True)\n",
    "```\n",
    "Load the data from each of the json files with the following naming conventions:\n",
    "* `yelp_business.json` into a DataFrame named `businesses`\n",
    "* `yelp_review.json` into a DataFrame named `reviews`\n",
    "* `yelp_user.json` into a DataFrame named `users`\n",
    "* `yelp_checkin.json` into a DataFrame named `checkins`\n",
    "* `yelp_tip.json` into a DataFrame named `tips`\n",
    "* `yelp_photo.json` into a DataFrame named `photos`\n",
    "\n",
    "Importing that data could take 10 to 20 seconds to run depending on your computer, but don't worry, once it's loaded in you're ready to go!"
   ]
  },
  {
   "cell_type": "code",
   "execution_count": 3,
   "metadata": {},
   "outputs": [],
   "source": [
    "import pandas as pd\n",
    "\n",
    "businesses = pd.read_json('yelp_business.json', lines=True)\n",
    "reviews = pd.read_json('yelp_review.json', lines=True)\n",
    "users = pd.read_json('yelp_user.json', lines=True)\n",
    "checkins = pd.read_json('yelp_checkin.json', lines=True)\n",
    "tips = pd.read_json('yelp_tip.json', lines=True)\n",
    "photos = pd.read_json('yelp_photo.json', lines=True)"
   ]
  },
  {
   "cell_type": "markdown",
   "metadata": {},
   "source": [
    "In order to more clearly see the information in our DataFrame, we can adjust the number of columns shown (`max_columns`) and the number of characters shown in a column (`max_colwidth`) with the below code:\n",
    "\n",
    "```python\n",
    "pd.options.display.max_columns = number_of_columns_to_display\n",
    "pd.options.display.max_colwidth = number_of_characters_to_display\n",
    "```\n",
    "\n",
    "Set `max_columns` to `60` and `max_colwidth` to `500`. We are working with some BIG data here!"
   ]
  },
  {
   "cell_type": "code",
   "execution_count": 4,
   "metadata": {
    "ExecuteTime": {
     "end_time": "2018-09-14T14:51:21.351977Z",
     "start_time": "2018-09-14T14:51:21.349551Z"
    }
   },
   "outputs": [],
   "source": [
    "pd.options.display.max_columns = 60\n",
    "pd.options.display.max_colwidth = 500"
   ]
  },
  {
   "cell_type": "markdown",
   "metadata": {},
   "source": [
    "Inspect the first five rows of each DataFrame using the `.head()` method to get an overview of the data (make sure to check each DataFrame in a separate cell in order to view it properly)."
   ]
  },
  {
   "cell_type": "code",
   "execution_count": 5,
   "metadata": {
    "ExecuteTime": {
     "end_time": "2018-09-14T14:51:21.392763Z",
     "start_time": "2018-09-14T14:51:21.354525Z"
    },
    "scrolled": true
   },
   "outputs": [
    {
     "data": {
      "text/html": [
       "<div>\n",
       "<style scoped>\n",
       "    .dataframe tbody tr th:only-of-type {\n",
       "        vertical-align: middle;\n",
       "    }\n",
       "\n",
       "    .dataframe tbody tr th {\n",
       "        vertical-align: top;\n",
       "    }\n",
       "\n",
       "    .dataframe thead th {\n",
       "        text-align: right;\n",
       "    }\n",
       "</style>\n",
       "<table border=\"1\" class=\"dataframe\">\n",
       "  <thead>\n",
       "    <tr style=\"text-align: right;\">\n",
       "      <th></th>\n",
       "      <th>address</th>\n",
       "      <th>alcohol?</th>\n",
       "      <th>attributes</th>\n",
       "      <th>business_id</th>\n",
       "      <th>categories</th>\n",
       "      <th>city</th>\n",
       "      <th>good_for_kids</th>\n",
       "      <th>has_bike_parking</th>\n",
       "      <th>has_wifi</th>\n",
       "      <th>hours</th>\n",
       "      <th>is_open</th>\n",
       "      <th>latitude</th>\n",
       "      <th>longitude</th>\n",
       "      <th>name</th>\n",
       "      <th>neighborhood</th>\n",
       "      <th>postal_code</th>\n",
       "      <th>price_range</th>\n",
       "      <th>review_count</th>\n",
       "      <th>stars</th>\n",
       "      <th>state</th>\n",
       "      <th>take_reservations</th>\n",
       "      <th>takes_credit_cards</th>\n",
       "    </tr>\n",
       "  </thead>\n",
       "  <tbody>\n",
       "    <tr>\n",
       "      <th>0</th>\n",
       "      <td>1314 44 Avenue NE</td>\n",
       "      <td>0</td>\n",
       "      <td>{'BikeParking': 'False', 'BusinessAcceptsCreditCards': 'True', 'BusinessParking': '{'garage': False, 'street': True, 'validated': False, 'lot': False, 'valet': False}', 'GoodForKids': 'True', 'HasTV': 'True', 'NoiseLevel': 'average', 'OutdoorSeating': 'False', 'RestaurantsAttire': 'casual', 'RestaurantsDelivery': 'False', 'RestaurantsGoodForGroups': 'True', 'RestaurantsPriceRange2': '2', 'RestaurantsReservations': 'True', 'RestaurantsTakeOut': 'True'}</td>\n",
       "      <td>Apn5Q_b6Nz61Tq4XzPdf9A</td>\n",
       "      <td>Tours, Breweries, Pizza, Restaurants, Food, Hotels &amp; Travel</td>\n",
       "      <td>Calgary</td>\n",
       "      <td>1</td>\n",
       "      <td>0</td>\n",
       "      <td>0</td>\n",
       "      <td>{'Monday': '8:30-17:0', 'Tuesday': '11:0-21:0', 'Wednesday': '11:0-21:0', 'Thursday': '11:0-21:0', 'Friday': '11:0-21:0', 'Saturday': '11:0-21:0'}</td>\n",
       "      <td>1</td>\n",
       "      <td>51.091813</td>\n",
       "      <td>-114.031675</td>\n",
       "      <td>Minhas Micro Brewery</td>\n",
       "      <td></td>\n",
       "      <td>T2E 6L6</td>\n",
       "      <td>2</td>\n",
       "      <td>24</td>\n",
       "      <td>4.0</td>\n",
       "      <td>AB</td>\n",
       "      <td>1</td>\n",
       "      <td>1</td>\n",
       "    </tr>\n",
       "    <tr>\n",
       "      <th>1</th>\n",
       "      <td></td>\n",
       "      <td>0</td>\n",
       "      <td>{'Alcohol': 'none', 'BikeParking': 'False', 'BusinessAcceptsCreditCards': 'True', 'BusinessParking': '{'garage': False, 'street': True, 'validated': False, 'lot': True, 'valet': False}', 'Caters': 'True', 'DogsAllowed': 'True', 'DriveThru': 'False', 'GoodForKids': 'True', 'GoodForMeal': '{'dessert': False, 'latenight': False, 'lunch': False, 'dinner': False, 'breakfast': False, 'brunch': False}', 'HasTV': 'False', 'OutdoorSeating': 'True', 'RestaurantsAttire': 'casual', 'RestaurantsDelivery'...</td>\n",
       "      <td>AjEbIBw6ZFfln7ePHha9PA</td>\n",
       "      <td>Chicken Wings, Burgers, Caterers, Street Vendors, Barbeque, Food Trucks, Food, Restaurants, Event Planning &amp; Services</td>\n",
       "      <td>Henderson</td>\n",
       "      <td>1</td>\n",
       "      <td>0</td>\n",
       "      <td>0</td>\n",
       "      <td>{'Friday': '17:0-23:0', 'Saturday': '17:0-23:0', 'Sunday': '17:0-23:0'}</td>\n",
       "      <td>0</td>\n",
       "      <td>35.960734</td>\n",
       "      <td>-114.939821</td>\n",
       "      <td>CK'S BBQ &amp; Catering</td>\n",
       "      <td></td>\n",
       "      <td>89002</td>\n",
       "      <td>2</td>\n",
       "      <td>3</td>\n",
       "      <td>4.5</td>\n",
       "      <td>NV</td>\n",
       "      <td>0</td>\n",
       "      <td>1</td>\n",
       "    </tr>\n",
       "    <tr>\n",
       "      <th>2</th>\n",
       "      <td>1335 rue Beaubien E</td>\n",
       "      <td>1</td>\n",
       "      <td>{'Alcohol': 'beer_and_wine', 'Ambience': '{'romantic': False, 'intimate': False, 'classy': False, 'hipster': False, 'touristy': False, 'trendy': False, 'upscale': False, 'casual': False}', 'BikeParking': 'True', 'BusinessAcceptsCreditCards': 'False', 'BusinessParking': '{'garage': False, 'street': False, 'validated': False, 'lot': False, 'valet': False}', 'Caters': 'False', 'GoodForKids': 'True', 'GoodForMeal': '{'dessert': False, 'latenight': False, 'lunch': False, 'dinner': False, 'breakfa...</td>\n",
       "      <td>O8S5hYJ1SMc8fA4QBtVujA</td>\n",
       "      <td>Breakfast &amp; Brunch, Restaurants, French, Sandwiches, Cafes</td>\n",
       "      <td>Montréal</td>\n",
       "      <td>1</td>\n",
       "      <td>1</td>\n",
       "      <td>1</td>\n",
       "      <td>{'Monday': '10:0-22:0', 'Tuesday': '10:0-22:0', 'Wednesday': '10:0-22:0', 'Thursday': '10:0-22:0', 'Friday': '10:0-22:0', 'Saturday': '10:0-22:0', 'Sunday': '10:0-22:0'}</td>\n",
       "      <td>0</td>\n",
       "      <td>45.540503</td>\n",
       "      <td>-73.599300</td>\n",
       "      <td>La Bastringue</td>\n",
       "      <td>Rosemont-La Petite-Patrie</td>\n",
       "      <td>H2G 1K7</td>\n",
       "      <td>2</td>\n",
       "      <td>5</td>\n",
       "      <td>4.0</td>\n",
       "      <td>QC</td>\n",
       "      <td>1</td>\n",
       "      <td>0</td>\n",
       "    </tr>\n",
       "    <tr>\n",
       "      <th>3</th>\n",
       "      <td>211 W Monroe St</td>\n",
       "      <td>0</td>\n",
       "      <td>None</td>\n",
       "      <td>bFzdJJ3wp3PZssNEsyU23g</td>\n",
       "      <td>Insurance, Financial Services</td>\n",
       "      <td>Phoenix</td>\n",
       "      <td>0</td>\n",
       "      <td>0</td>\n",
       "      <td>0</td>\n",
       "      <td>None</td>\n",
       "      <td>1</td>\n",
       "      <td>33.449999</td>\n",
       "      <td>-112.076979</td>\n",
       "      <td>Geico Insurance</td>\n",
       "      <td></td>\n",
       "      <td>85003</td>\n",
       "      <td>0</td>\n",
       "      <td>8</td>\n",
       "      <td>1.5</td>\n",
       "      <td>AZ</td>\n",
       "      <td>0</td>\n",
       "      <td>0</td>\n",
       "    </tr>\n",
       "    <tr>\n",
       "      <th>4</th>\n",
       "      <td>2005 Alyth Place SE</td>\n",
       "      <td>0</td>\n",
       "      <td>{'BusinessAcceptsCreditCards': 'True'}</td>\n",
       "      <td>8USyCYqpScwiNEb58Bt6CA</td>\n",
       "      <td>Home &amp; Garden, Nurseries &amp; Gardening, Shopping, Local Services, Automotive, Electronics Repair</td>\n",
       "      <td>Calgary</td>\n",
       "      <td>0</td>\n",
       "      <td>0</td>\n",
       "      <td>0</td>\n",
       "      <td>{'Monday': '8:0-17:0', 'Tuesday': '8:0-17:0', 'Wednesday': '8:0-17:0', 'Thursday': '8:0-17:0', 'Friday': '8:0-17:0'}</td>\n",
       "      <td>1</td>\n",
       "      <td>51.035591</td>\n",
       "      <td>-114.027366</td>\n",
       "      <td>Action Engine</td>\n",
       "      <td></td>\n",
       "      <td>T2H 0N5</td>\n",
       "      <td>0</td>\n",
       "      <td>4</td>\n",
       "      <td>2.0</td>\n",
       "      <td>AB</td>\n",
       "      <td>0</td>\n",
       "      <td>1</td>\n",
       "    </tr>\n",
       "  </tbody>\n",
       "</table>\n",
       "</div>"
      ],
      "text/plain": [
       "               address  alcohol?  \\\n",
       "0    1314 44 Avenue NE         0   \n",
       "1                              0   \n",
       "2  1335 rue Beaubien E         1   \n",
       "3      211 W Monroe St         0   \n",
       "4  2005 Alyth Place SE         0   \n",
       "\n",
       "                                                                                                                                                                                                                                                                                                                                                                                                                                                                                                            attributes  \\\n",
       "0                                              {'BikeParking': 'False', 'BusinessAcceptsCreditCards': 'True', 'BusinessParking': '{'garage': False, 'street': True, 'validated': False, 'lot': False, 'valet': False}', 'GoodForKids': 'True', 'HasTV': 'True', 'NoiseLevel': 'average', 'OutdoorSeating': 'False', 'RestaurantsAttire': 'casual', 'RestaurantsDelivery': 'False', 'RestaurantsGoodForGroups': 'True', 'RestaurantsPriceRange2': '2', 'RestaurantsReservations': 'True', 'RestaurantsTakeOut': 'True'}   \n",
       "1  {'Alcohol': 'none', 'BikeParking': 'False', 'BusinessAcceptsCreditCards': 'True', 'BusinessParking': '{'garage': False, 'street': True, 'validated': False, 'lot': True, 'valet': False}', 'Caters': 'True', 'DogsAllowed': 'True', 'DriveThru': 'False', 'GoodForKids': 'True', 'GoodForMeal': '{'dessert': False, 'latenight': False, 'lunch': False, 'dinner': False, 'breakfast': False, 'brunch': False}', 'HasTV': 'False', 'OutdoorSeating': 'True', 'RestaurantsAttire': 'casual', 'RestaurantsDelivery'...   \n",
       "2  {'Alcohol': 'beer_and_wine', 'Ambience': '{'romantic': False, 'intimate': False, 'classy': False, 'hipster': False, 'touristy': False, 'trendy': False, 'upscale': False, 'casual': False}', 'BikeParking': 'True', 'BusinessAcceptsCreditCards': 'False', 'BusinessParking': '{'garage': False, 'street': False, 'validated': False, 'lot': False, 'valet': False}', 'Caters': 'False', 'GoodForKids': 'True', 'GoodForMeal': '{'dessert': False, 'latenight': False, 'lunch': False, 'dinner': False, 'breakfa...   \n",
       "3                                                                                                                                                                                                                                                                                                                                                                                                                                                                                                                 None   \n",
       "4                                                                                                                                                                                                                                                                                                                                                                                                                                                                               {'BusinessAcceptsCreditCards': 'True'}   \n",
       "\n",
       "              business_id  \\\n",
       "0  Apn5Q_b6Nz61Tq4XzPdf9A   \n",
       "1  AjEbIBw6ZFfln7ePHha9PA   \n",
       "2  O8S5hYJ1SMc8fA4QBtVujA   \n",
       "3  bFzdJJ3wp3PZssNEsyU23g   \n",
       "4  8USyCYqpScwiNEb58Bt6CA   \n",
       "\n",
       "                                                                                                              categories  \\\n",
       "0                                                            Tours, Breweries, Pizza, Restaurants, Food, Hotels & Travel   \n",
       "1  Chicken Wings, Burgers, Caterers, Street Vendors, Barbeque, Food Trucks, Food, Restaurants, Event Planning & Services   \n",
       "2                                                             Breakfast & Brunch, Restaurants, French, Sandwiches, Cafes   \n",
       "3                                                                                          Insurance, Financial Services   \n",
       "4                         Home & Garden, Nurseries & Gardening, Shopping, Local Services, Automotive, Electronics Repair   \n",
       "\n",
       "        city  good_for_kids  has_bike_parking  has_wifi  \\\n",
       "0    Calgary              1                 0         0   \n",
       "1  Henderson              1                 0         0   \n",
       "2   Montréal              1                 1         1   \n",
       "3    Phoenix              0                 0         0   \n",
       "4    Calgary              0                 0         0   \n",
       "\n",
       "                                                                                                                                                                       hours  \\\n",
       "0                         {'Monday': '8:30-17:0', 'Tuesday': '11:0-21:0', 'Wednesday': '11:0-21:0', 'Thursday': '11:0-21:0', 'Friday': '11:0-21:0', 'Saturday': '11:0-21:0'}   \n",
       "1                                                                                                    {'Friday': '17:0-23:0', 'Saturday': '17:0-23:0', 'Sunday': '17:0-23:0'}   \n",
       "2  {'Monday': '10:0-22:0', 'Tuesday': '10:0-22:0', 'Wednesday': '10:0-22:0', 'Thursday': '10:0-22:0', 'Friday': '10:0-22:0', 'Saturday': '10:0-22:0', 'Sunday': '10:0-22:0'}   \n",
       "3                                                                                                                                                                       None   \n",
       "4                                                       {'Monday': '8:0-17:0', 'Tuesday': '8:0-17:0', 'Wednesday': '8:0-17:0', 'Thursday': '8:0-17:0', 'Friday': '8:0-17:0'}   \n",
       "\n",
       "   is_open   latitude   longitude                  name  \\\n",
       "0        1  51.091813 -114.031675  Minhas Micro Brewery   \n",
       "1        0  35.960734 -114.939821   CK'S BBQ & Catering   \n",
       "2        0  45.540503  -73.599300         La Bastringue   \n",
       "3        1  33.449999 -112.076979       Geico Insurance   \n",
       "4        1  51.035591 -114.027366         Action Engine   \n",
       "\n",
       "                neighborhood postal_code  price_range  review_count  stars  \\\n",
       "0                                T2E 6L6            2            24    4.0   \n",
       "1                                  89002            2             3    4.5   \n",
       "2  Rosemont-La Petite-Patrie     H2G 1K7            2             5    4.0   \n",
       "3                                  85003            0             8    1.5   \n",
       "4                                T2H 0N5            0             4    2.0   \n",
       "\n",
       "  state  take_reservations  takes_credit_cards  \n",
       "0    AB                  1                   1  \n",
       "1    NV                  0                   1  \n",
       "2    QC                  1                   0  \n",
       "3    AZ                  0                   0  \n",
       "4    AB                  0                   1  "
      ]
     },
     "execution_count": 5,
     "metadata": {},
     "output_type": "execute_result"
    }
   ],
   "source": [
    "businesses.head()"
   ]
  },
  {
   "cell_type": "code",
   "execution_count": 6,
   "metadata": {
    "ExecuteTime": {
     "end_time": "2018-09-14T14:51:21.407101Z",
     "start_time": "2018-09-14T14:51:21.394695Z"
    }
   },
   "outputs": [
    {
     "data": {
      "text/html": [
       "<div>\n",
       "<style scoped>\n",
       "    .dataframe tbody tr th:only-of-type {\n",
       "        vertical-align: middle;\n",
       "    }\n",
       "\n",
       "    .dataframe tbody tr th {\n",
       "        vertical-align: top;\n",
       "    }\n",
       "\n",
       "    .dataframe thead th {\n",
       "        text-align: right;\n",
       "    }\n",
       "</style>\n",
       "<table border=\"1\" class=\"dataframe\">\n",
       "  <thead>\n",
       "    <tr style=\"text-align: right;\">\n",
       "      <th></th>\n",
       "      <th>business_id</th>\n",
       "      <th>average_review_age</th>\n",
       "      <th>average_review_length</th>\n",
       "      <th>average_review_sentiment</th>\n",
       "      <th>number_funny_votes</th>\n",
       "      <th>number_cool_votes</th>\n",
       "      <th>number_useful_votes</th>\n",
       "    </tr>\n",
       "  </thead>\n",
       "  <tbody>\n",
       "    <tr>\n",
       "      <th>0</th>\n",
       "      <td>--1UhMGODdWsrMastO9DZw</td>\n",
       "      <td>524.458333</td>\n",
       "      <td>466.208333</td>\n",
       "      <td>0.808638</td>\n",
       "      <td>1</td>\n",
       "      <td>16</td>\n",
       "      <td>15</td>\n",
       "    </tr>\n",
       "    <tr>\n",
       "      <th>1</th>\n",
       "      <td>--6MefnULPED_I942VcFNA</td>\n",
       "      <td>1199.589744</td>\n",
       "      <td>785.205128</td>\n",
       "      <td>0.669126</td>\n",
       "      <td>27</td>\n",
       "      <td>32</td>\n",
       "      <td>53</td>\n",
       "    </tr>\n",
       "    <tr>\n",
       "      <th>2</th>\n",
       "      <td>--7zmmkVg-IMGaXbuVd0SQ</td>\n",
       "      <td>717.851852</td>\n",
       "      <td>536.592593</td>\n",
       "      <td>0.820837</td>\n",
       "      <td>29</td>\n",
       "      <td>52</td>\n",
       "      <td>81</td>\n",
       "    </tr>\n",
       "    <tr>\n",
       "      <th>3</th>\n",
       "      <td>--8LPVSo5i0Oo61X01sV9A</td>\n",
       "      <td>751.750000</td>\n",
       "      <td>478.250000</td>\n",
       "      <td>0.170925</td>\n",
       "      <td>0</td>\n",
       "      <td>0</td>\n",
       "      <td>9</td>\n",
       "    </tr>\n",
       "    <tr>\n",
       "      <th>4</th>\n",
       "      <td>--9QQLMTbFzLJ_oT-ON3Xw</td>\n",
       "      <td>978.727273</td>\n",
       "      <td>436.181818</td>\n",
       "      <td>0.562264</td>\n",
       "      <td>3</td>\n",
       "      <td>4</td>\n",
       "      <td>7</td>\n",
       "    </tr>\n",
       "  </tbody>\n",
       "</table>\n",
       "</div>"
      ],
      "text/plain": [
       "              business_id  average_review_age  average_review_length  \\\n",
       "0  --1UhMGODdWsrMastO9DZw          524.458333             466.208333   \n",
       "1  --6MefnULPED_I942VcFNA         1199.589744             785.205128   \n",
       "2  --7zmmkVg-IMGaXbuVd0SQ          717.851852             536.592593   \n",
       "3  --8LPVSo5i0Oo61X01sV9A          751.750000             478.250000   \n",
       "4  --9QQLMTbFzLJ_oT-ON3Xw          978.727273             436.181818   \n",
       "\n",
       "   average_review_sentiment  number_funny_votes  number_cool_votes  \\\n",
       "0                  0.808638                   1                 16   \n",
       "1                  0.669126                  27                 32   \n",
       "2                  0.820837                  29                 52   \n",
       "3                  0.170925                   0                  0   \n",
       "4                  0.562264                   3                  4   \n",
       "\n",
       "   number_useful_votes  \n",
       "0                   15  \n",
       "1                   53  \n",
       "2                   81  \n",
       "3                    9  \n",
       "4                    7  "
      ]
     },
     "execution_count": 6,
     "metadata": {},
     "output_type": "execute_result"
    }
   ],
   "source": [
    "reviews.head()"
   ]
  },
  {
   "cell_type": "code",
   "execution_count": 7,
   "metadata": {
    "ExecuteTime": {
     "end_time": "2018-09-14T14:51:21.419331Z",
     "start_time": "2018-09-14T14:51:21.409377Z"
    }
   },
   "outputs": [
    {
     "data": {
      "text/html": [
       "<div>\n",
       "<style scoped>\n",
       "    .dataframe tbody tr th:only-of-type {\n",
       "        vertical-align: middle;\n",
       "    }\n",
       "\n",
       "    .dataframe tbody tr th {\n",
       "        vertical-align: top;\n",
       "    }\n",
       "\n",
       "    .dataframe thead th {\n",
       "        text-align: right;\n",
       "    }\n",
       "</style>\n",
       "<table border=\"1\" class=\"dataframe\">\n",
       "  <thead>\n",
       "    <tr style=\"text-align: right;\">\n",
       "      <th></th>\n",
       "      <th>business_id</th>\n",
       "      <th>average_number_friends</th>\n",
       "      <th>average_days_on_yelp</th>\n",
       "      <th>average_number_fans</th>\n",
       "      <th>average_review_count</th>\n",
       "      <th>average_number_years_elite</th>\n",
       "    </tr>\n",
       "  </thead>\n",
       "  <tbody>\n",
       "    <tr>\n",
       "      <th>0</th>\n",
       "      <td>--1UhMGODdWsrMastO9DZw</td>\n",
       "      <td>18.791667</td>\n",
       "      <td>1789.750000</td>\n",
       "      <td>1.833333</td>\n",
       "      <td>57.541667</td>\n",
       "      <td>0.833333</td>\n",
       "    </tr>\n",
       "    <tr>\n",
       "      <th>1</th>\n",
       "      <td>--6MefnULPED_I942VcFNA</td>\n",
       "      <td>214.564103</td>\n",
       "      <td>2039.948718</td>\n",
       "      <td>49.256410</td>\n",
       "      <td>332.743590</td>\n",
       "      <td>1.769231</td>\n",
       "    </tr>\n",
       "    <tr>\n",
       "      <th>2</th>\n",
       "      <td>--7zmmkVg-IMGaXbuVd0SQ</td>\n",
       "      <td>126.185185</td>\n",
       "      <td>1992.796296</td>\n",
       "      <td>19.222222</td>\n",
       "      <td>208.962963</td>\n",
       "      <td>1.814815</td>\n",
       "    </tr>\n",
       "    <tr>\n",
       "      <th>3</th>\n",
       "      <td>--8LPVSo5i0Oo61X01sV9A</td>\n",
       "      <td>25.250000</td>\n",
       "      <td>2095.750000</td>\n",
       "      <td>0.500000</td>\n",
       "      <td>7.500000</td>\n",
       "      <td>0.000000</td>\n",
       "    </tr>\n",
       "    <tr>\n",
       "      <th>4</th>\n",
       "      <td>--9QQLMTbFzLJ_oT-ON3Xw</td>\n",
       "      <td>52.454545</td>\n",
       "      <td>1804.636364</td>\n",
       "      <td>1.000000</td>\n",
       "      <td>34.636364</td>\n",
       "      <td>0.090909</td>\n",
       "    </tr>\n",
       "  </tbody>\n",
       "</table>\n",
       "</div>"
      ],
      "text/plain": [
       "              business_id  average_number_friends  average_days_on_yelp  \\\n",
       "0  --1UhMGODdWsrMastO9DZw               18.791667           1789.750000   \n",
       "1  --6MefnULPED_I942VcFNA              214.564103           2039.948718   \n",
       "2  --7zmmkVg-IMGaXbuVd0SQ              126.185185           1992.796296   \n",
       "3  --8LPVSo5i0Oo61X01sV9A               25.250000           2095.750000   \n",
       "4  --9QQLMTbFzLJ_oT-ON3Xw               52.454545           1804.636364   \n",
       "\n",
       "   average_number_fans  average_review_count  average_number_years_elite  \n",
       "0             1.833333             57.541667                    0.833333  \n",
       "1            49.256410            332.743590                    1.769231  \n",
       "2            19.222222            208.962963                    1.814815  \n",
       "3             0.500000              7.500000                    0.000000  \n",
       "4             1.000000             34.636364                    0.090909  "
      ]
     },
     "execution_count": 7,
     "metadata": {},
     "output_type": "execute_result"
    }
   ],
   "source": [
    "users.head()"
   ]
  },
  {
   "cell_type": "code",
   "execution_count": 8,
   "metadata": {
    "ExecuteTime": {
     "end_time": "2018-09-14T14:51:21.433534Z",
     "start_time": "2018-09-14T14:51:21.421393Z"
    },
    "scrolled": true
   },
   "outputs": [
    {
     "data": {
      "text/html": [
       "<div>\n",
       "<style scoped>\n",
       "    .dataframe tbody tr th:only-of-type {\n",
       "        vertical-align: middle;\n",
       "    }\n",
       "\n",
       "    .dataframe tbody tr th {\n",
       "        vertical-align: top;\n",
       "    }\n",
       "\n",
       "    .dataframe thead th {\n",
       "        text-align: right;\n",
       "    }\n",
       "</style>\n",
       "<table border=\"1\" class=\"dataframe\">\n",
       "  <thead>\n",
       "    <tr style=\"text-align: right;\">\n",
       "      <th></th>\n",
       "      <th>business_id</th>\n",
       "      <th>time</th>\n",
       "      <th>weekday_checkins</th>\n",
       "      <th>weekend_checkins</th>\n",
       "    </tr>\n",
       "  </thead>\n",
       "  <tbody>\n",
       "    <tr>\n",
       "      <th>0</th>\n",
       "      <td>7KPBkxAOEtb3QeIL9PEErg</td>\n",
       "      <td>{'Fri-0': 2, 'Sat-0': 1, 'Sun-0': 1, 'Wed-0': 2, 'Fri-1': 1, 'Sat-1': 3, 'Thu-1': 1, 'Wed-1': 1, 'Sat-2': 1, 'Sun-2': 2, 'Thu-2': 1, 'Wed-2': 1, 'Fri-3': 1, 'Sun-3': 3, 'Mon-4': 1, 'Thu-4': 1, 'Tue-4': 2, 'Wed-4': 2, 'Sun-6': 1, 'Wed-6': 1, 'Thu-7': 1, 'Fri-10': 3, 'Mon-10': 1, 'Sat-10': 3, 'Sun-10': 3, 'Tue-10': 2, 'Mon-11': 1, 'Thu-11': 1, 'Wed-11': 2, 'Mon-12': 1, 'Sat-12': 1, 'Tue-12': 1, 'Sat-13': 3, 'Thu-13': 1, 'Tue-13': 2, 'Wed-13': 3, 'Fri-14': 2, 'Mon-14': 1, 'Sat-14': 1, 'Sun-14':...</td>\n",
       "      <td>76</td>\n",
       "      <td>75</td>\n",
       "    </tr>\n",
       "    <tr>\n",
       "      <th>1</th>\n",
       "      <td>kREVIrSBbtqBhIYkTccQUg</td>\n",
       "      <td>{'Mon-13': 1, 'Thu-13': 1, 'Sat-16': 1, 'Wed-17': 1, 'Sun-19': 1, 'Thu-20': 1, 'Sat-21': 1}</td>\n",
       "      <td>4</td>\n",
       "      <td>3</td>\n",
       "    </tr>\n",
       "    <tr>\n",
       "      <th>2</th>\n",
       "      <td>tJRDll5yqpZwehenzE2cSg</td>\n",
       "      <td>{'Thu-0': 1, 'Mon-1': 1, 'Mon-12': 1, 'Sat-16': 1, 'Sun-22': 1, 'Fri-23': 1}</td>\n",
       "      <td>3</td>\n",
       "      <td>3</td>\n",
       "    </tr>\n",
       "    <tr>\n",
       "      <th>3</th>\n",
       "      <td>tZccfdl6JNw-j5BKnCTIQQ</td>\n",
       "      <td>{'Sun-14': 1, 'Fri-18': 1, 'Mon-20': 1}</td>\n",
       "      <td>1</td>\n",
       "      <td>2</td>\n",
       "    </tr>\n",
       "    <tr>\n",
       "      <th>4</th>\n",
       "      <td>r1p7RAMzCV_6NPF0dNoR3g</td>\n",
       "      <td>{'Sat-3': 1, 'Sun-18': 1, 'Sat-21': 1, 'Sat-23': 1, 'Thu-23': 1}</td>\n",
       "      <td>1</td>\n",
       "      <td>4</td>\n",
       "    </tr>\n",
       "  </tbody>\n",
       "</table>\n",
       "</div>"
      ],
      "text/plain": [
       "              business_id  \\\n",
       "0  7KPBkxAOEtb3QeIL9PEErg   \n",
       "1  kREVIrSBbtqBhIYkTccQUg   \n",
       "2  tJRDll5yqpZwehenzE2cSg   \n",
       "3  tZccfdl6JNw-j5BKnCTIQQ   \n",
       "4  r1p7RAMzCV_6NPF0dNoR3g   \n",
       "\n",
       "                                                                                                                                                                                                                                                                                                                                                                                                                                                                                                                  time  \\\n",
       "0  {'Fri-0': 2, 'Sat-0': 1, 'Sun-0': 1, 'Wed-0': 2, 'Fri-1': 1, 'Sat-1': 3, 'Thu-1': 1, 'Wed-1': 1, 'Sat-2': 1, 'Sun-2': 2, 'Thu-2': 1, 'Wed-2': 1, 'Fri-3': 1, 'Sun-3': 3, 'Mon-4': 1, 'Thu-4': 1, 'Tue-4': 2, 'Wed-4': 2, 'Sun-6': 1, 'Wed-6': 1, 'Thu-7': 1, 'Fri-10': 3, 'Mon-10': 1, 'Sat-10': 3, 'Sun-10': 3, 'Tue-10': 2, 'Mon-11': 1, 'Thu-11': 1, 'Wed-11': 2, 'Mon-12': 1, 'Sat-12': 1, 'Tue-12': 1, 'Sat-13': 3, 'Thu-13': 1, 'Tue-13': 2, 'Wed-13': 3, 'Fri-14': 2, 'Mon-14': 1, 'Sat-14': 1, 'Sun-14':...   \n",
       "1                                                                                                                                                                                                                                                                                                                                                                                                                          {'Mon-13': 1, 'Thu-13': 1, 'Sat-16': 1, 'Wed-17': 1, 'Sun-19': 1, 'Thu-20': 1, 'Sat-21': 1}   \n",
       "2                                                                                                                                                                                                                                                                                                                                                                                                                                         {'Thu-0': 1, 'Mon-1': 1, 'Mon-12': 1, 'Sat-16': 1, 'Sun-22': 1, 'Fri-23': 1}   \n",
       "3                                                                                                                                                                                                                                                                                                                                                                                                                                                                              {'Sun-14': 1, 'Fri-18': 1, 'Mon-20': 1}   \n",
       "4                                                                                                                                                                                                                                                                                                                                                                                                                                                     {'Sat-3': 1, 'Sun-18': 1, 'Sat-21': 1, 'Sat-23': 1, 'Thu-23': 1}   \n",
       "\n",
       "   weekday_checkins  weekend_checkins  \n",
       "0                76                75  \n",
       "1                 4                 3  \n",
       "2                 3                 3  \n",
       "3                 1                 2  \n",
       "4                 1                 4  "
      ]
     },
     "execution_count": 8,
     "metadata": {},
     "output_type": "execute_result"
    }
   ],
   "source": [
    "checkins.head()"
   ]
  },
  {
   "cell_type": "code",
   "execution_count": 9,
   "metadata": {
    "ExecuteTime": {
     "end_time": "2018-09-14T14:51:21.445061Z",
     "start_time": "2018-09-14T14:51:21.435743Z"
    },
    "scrolled": true
   },
   "outputs": [
    {
     "data": {
      "text/html": [
       "<div>\n",
       "<style scoped>\n",
       "    .dataframe tbody tr th:only-of-type {\n",
       "        vertical-align: middle;\n",
       "    }\n",
       "\n",
       "    .dataframe tbody tr th {\n",
       "        vertical-align: top;\n",
       "    }\n",
       "\n",
       "    .dataframe thead th {\n",
       "        text-align: right;\n",
       "    }\n",
       "</style>\n",
       "<table border=\"1\" class=\"dataframe\">\n",
       "  <thead>\n",
       "    <tr style=\"text-align: right;\">\n",
       "      <th></th>\n",
       "      <th>business_id</th>\n",
       "      <th>average_tip_length</th>\n",
       "      <th>number_tips</th>\n",
       "    </tr>\n",
       "  </thead>\n",
       "  <tbody>\n",
       "    <tr>\n",
       "      <th>0</th>\n",
       "      <td>--1UhMGODdWsrMastO9DZw</td>\n",
       "      <td>79.000000</td>\n",
       "      <td>1</td>\n",
       "    </tr>\n",
       "    <tr>\n",
       "      <th>1</th>\n",
       "      <td>--6MefnULPED_I942VcFNA</td>\n",
       "      <td>49.857143</td>\n",
       "      <td>14</td>\n",
       "    </tr>\n",
       "    <tr>\n",
       "      <th>2</th>\n",
       "      <td>--7zmmkVg-IMGaXbuVd0SQ</td>\n",
       "      <td>52.500000</td>\n",
       "      <td>10</td>\n",
       "    </tr>\n",
       "    <tr>\n",
       "      <th>3</th>\n",
       "      <td>--9QQLMTbFzLJ_oT-ON3Xw</td>\n",
       "      <td>136.500000</td>\n",
       "      <td>2</td>\n",
       "    </tr>\n",
       "    <tr>\n",
       "      <th>4</th>\n",
       "      <td>--9e1ONYQuAa-CB_Rrw7Tw</td>\n",
       "      <td>68.064935</td>\n",
       "      <td>154</td>\n",
       "    </tr>\n",
       "  </tbody>\n",
       "</table>\n",
       "</div>"
      ],
      "text/plain": [
       "              business_id  average_tip_length  number_tips\n",
       "0  --1UhMGODdWsrMastO9DZw           79.000000            1\n",
       "1  --6MefnULPED_I942VcFNA           49.857143           14\n",
       "2  --7zmmkVg-IMGaXbuVd0SQ           52.500000           10\n",
       "3  --9QQLMTbFzLJ_oT-ON3Xw          136.500000            2\n",
       "4  --9e1ONYQuAa-CB_Rrw7Tw           68.064935          154"
      ]
     },
     "execution_count": 9,
     "metadata": {},
     "output_type": "execute_result"
    }
   ],
   "source": [
    "tips.head()"
   ]
  },
  {
   "cell_type": "code",
   "execution_count": 10,
   "metadata": {
    "ExecuteTime": {
     "end_time": "2018-09-14T14:51:21.455113Z",
     "start_time": "2018-09-14T14:51:21.446975Z"
    }
   },
   "outputs": [
    {
     "data": {
      "text/html": [
       "<div>\n",
       "<style scoped>\n",
       "    .dataframe tbody tr th:only-of-type {\n",
       "        vertical-align: middle;\n",
       "    }\n",
       "\n",
       "    .dataframe tbody tr th {\n",
       "        vertical-align: top;\n",
       "    }\n",
       "\n",
       "    .dataframe thead th {\n",
       "        text-align: right;\n",
       "    }\n",
       "</style>\n",
       "<table border=\"1\" class=\"dataframe\">\n",
       "  <thead>\n",
       "    <tr style=\"text-align: right;\">\n",
       "      <th></th>\n",
       "      <th>business_id</th>\n",
       "      <th>average_caption_length</th>\n",
       "      <th>number_pics</th>\n",
       "    </tr>\n",
       "  </thead>\n",
       "  <tbody>\n",
       "    <tr>\n",
       "      <th>0</th>\n",
       "      <td>--1UhMGODdWsrMastO9DZw</td>\n",
       "      <td>0.000000</td>\n",
       "      <td>1</td>\n",
       "    </tr>\n",
       "    <tr>\n",
       "      <th>1</th>\n",
       "      <td>--6MefnULPED_I942VcFNA</td>\n",
       "      <td>67.500000</td>\n",
       "      <td>2</td>\n",
       "    </tr>\n",
       "    <tr>\n",
       "      <th>2</th>\n",
       "      <td>--9e1ONYQuAa-CB_Rrw7Tw</td>\n",
       "      <td>30.426471</td>\n",
       "      <td>136</td>\n",
       "    </tr>\n",
       "    <tr>\n",
       "      <th>3</th>\n",
       "      <td>--DaPTJW3-tB1vP-PfdTEg</td>\n",
       "      <td>0.000000</td>\n",
       "      <td>1</td>\n",
       "    </tr>\n",
       "    <tr>\n",
       "      <th>4</th>\n",
       "      <td>--FBCX-N37CMYDfs790Bnw</td>\n",
       "      <td>5.500000</td>\n",
       "      <td>4</td>\n",
       "    </tr>\n",
       "  </tbody>\n",
       "</table>\n",
       "</div>"
      ],
      "text/plain": [
       "              business_id  average_caption_length  number_pics\n",
       "0  --1UhMGODdWsrMastO9DZw                0.000000            1\n",
       "1  --6MefnULPED_I942VcFNA               67.500000            2\n",
       "2  --9e1ONYQuAa-CB_Rrw7Tw               30.426471          136\n",
       "3  --DaPTJW3-tB1vP-PfdTEg                0.000000            1\n",
       "4  --FBCX-N37CMYDfs790Bnw                5.500000            4"
      ]
     },
     "execution_count": 10,
     "metadata": {},
     "output_type": "execute_result"
    }
   ],
   "source": [
    "photos.head()"
   ]
  },
  {
   "cell_type": "markdown",
   "metadata": {},
   "source": [
    "How many different businesses are in the dataset? What are the different features in the review DataFrame?"
   ]
  },
  {
   "cell_type": "code",
   "execution_count": 11,
   "metadata": {
    "ExecuteTime": {
     "end_time": "2018-09-14T14:51:21.460856Z",
     "start_time": "2018-09-14T14:51:21.456994Z"
    }
   },
   "outputs": [
    {
     "name": "stdout",
     "output_type": "stream",
     "text": [
      "188593\n",
      "Index(['business_id', 'average_review_age', 'average_review_length',\n",
      "       'average_review_sentiment', 'number_funny_votes', 'number_cool_votes',\n",
      "       'number_useful_votes'],\n",
      "      dtype='object')\n"
     ]
    }
   ],
   "source": [
    "print(len(businesses))\n",
    "print(reviews.columns)"
   ]
  },
  {
   "cell_type": "markdown",
   "metadata": {},
   "source": [
    "What is the range of values for the features in the user DataFrame?"
   ]
  },
  {
   "cell_type": "code",
   "execution_count": 12,
   "metadata": {
    "ExecuteTime": {
     "end_time": "2018-09-14T14:51:21.556908Z",
     "start_time": "2018-09-14T14:51:21.462876Z"
    }
   },
   "outputs": [
    {
     "data": {
      "text/html": [
       "<div>\n",
       "<style scoped>\n",
       "    .dataframe tbody tr th:only-of-type {\n",
       "        vertical-align: middle;\n",
       "    }\n",
       "\n",
       "    .dataframe tbody tr th {\n",
       "        vertical-align: top;\n",
       "    }\n",
       "\n",
       "    .dataframe thead th {\n",
       "        text-align: right;\n",
       "    }\n",
       "</style>\n",
       "<table border=\"1\" class=\"dataframe\">\n",
       "  <thead>\n",
       "    <tr style=\"text-align: right;\">\n",
       "      <th></th>\n",
       "      <th>average_number_friends</th>\n",
       "      <th>average_days_on_yelp</th>\n",
       "      <th>average_number_fans</th>\n",
       "      <th>average_review_count</th>\n",
       "      <th>average_number_years_elite</th>\n",
       "    </tr>\n",
       "  </thead>\n",
       "  <tbody>\n",
       "    <tr>\n",
       "      <th>count</th>\n",
       "      <td>188593.000000</td>\n",
       "      <td>188593.000000</td>\n",
       "      <td>188593.000000</td>\n",
       "      <td>188593.000000</td>\n",
       "      <td>188593.000000</td>\n",
       "    </tr>\n",
       "    <tr>\n",
       "      <th>mean</th>\n",
       "      <td>105.132000</td>\n",
       "      <td>2005.367009</td>\n",
       "      <td>11.590148</td>\n",
       "      <td>122.110660</td>\n",
       "      <td>0.923313</td>\n",
       "    </tr>\n",
       "    <tr>\n",
       "      <th>std</th>\n",
       "      <td>162.653680</td>\n",
       "      <td>554.174540</td>\n",
       "      <td>25.901801</td>\n",
       "      <td>208.814471</td>\n",
       "      <td>1.109289</td>\n",
       "    </tr>\n",
       "    <tr>\n",
       "      <th>min</th>\n",
       "      <td>1.000000</td>\n",
       "      <td>76.000000</td>\n",
       "      <td>0.000000</td>\n",
       "      <td>0.666667</td>\n",
       "      <td>0.000000</td>\n",
       "    </tr>\n",
       "    <tr>\n",
       "      <th>25%</th>\n",
       "      <td>26.666667</td>\n",
       "      <td>1647.000000</td>\n",
       "      <td>0.666667</td>\n",
       "      <td>21.000000</td>\n",
       "      <td>0.000000</td>\n",
       "    </tr>\n",
       "    <tr>\n",
       "      <th>50%</th>\n",
       "      <td>59.384615</td>\n",
       "      <td>1957.150000</td>\n",
       "      <td>3.583333</td>\n",
       "      <td>62.142857</td>\n",
       "      <td>0.583333</td>\n",
       "    </tr>\n",
       "    <tr>\n",
       "      <th>75%</th>\n",
       "      <td>117.666667</td>\n",
       "      <td>2312.238095</td>\n",
       "      <td>11.555556</td>\n",
       "      <td>143.454545</td>\n",
       "      <td>1.400000</td>\n",
       "    </tr>\n",
       "    <tr>\n",
       "      <th>max</th>\n",
       "      <td>4219.000000</td>\n",
       "      <td>4860.000000</td>\n",
       "      <td>1174.666667</td>\n",
       "      <td>6335.000000</td>\n",
       "      <td>10.666667</td>\n",
       "    </tr>\n",
       "  </tbody>\n",
       "</table>\n",
       "</div>"
      ],
      "text/plain": [
       "       average_number_friends  average_days_on_yelp  average_number_fans  \\\n",
       "count           188593.000000         188593.000000        188593.000000   \n",
       "mean               105.132000           2005.367009            11.590148   \n",
       "std                162.653680            554.174540            25.901801   \n",
       "min                  1.000000             76.000000             0.000000   \n",
       "25%                 26.666667           1647.000000             0.666667   \n",
       "50%                 59.384615           1957.150000             3.583333   \n",
       "75%                117.666667           2312.238095            11.555556   \n",
       "max               4219.000000           4860.000000          1174.666667   \n",
       "\n",
       "       average_review_count  average_number_years_elite  \n",
       "count         188593.000000               188593.000000  \n",
       "mean             122.110660                    0.923313  \n",
       "std              208.814471                    1.109289  \n",
       "min                0.666667                    0.000000  \n",
       "25%               21.000000                    0.000000  \n",
       "50%               62.142857                    0.583333  \n",
       "75%              143.454545                    1.400000  \n",
       "max             6335.000000                   10.666667  "
      ]
     },
     "execution_count": 12,
     "metadata": {},
     "output_type": "execute_result"
    }
   ],
   "source": [
    "users.describe()"
   ]
  },
  {
   "cell_type": "markdown",
   "metadata": {},
   "source": [
    "What is the Yelp rating, or `stars`, of the establishment with `business_id` = `5EvUIR4IzCWUOm0PsUZXjA`. Use Pandas boolean indexing to find the Yelp rating, using the syntax below:\n",
    "\n",
    "```python\n",
    "df[df['column_we_know'] == 'value_we_know']['column_we_want']\n",
    "```"
   ]
  },
  {
   "cell_type": "code",
   "execution_count": 13,
   "metadata": {
    "ExecuteTime": {
     "end_time": "2018-09-14T14:51:21.598473Z",
     "start_time": "2018-09-14T14:51:21.559796Z"
    }
   },
   "outputs": [
    {
     "name": "stdout",
     "output_type": "stream",
     "text": [
      "30781    3.0\n",
      "Name: stars, dtype: float64\n"
     ]
    }
   ],
   "source": [
    "print(businesses[businesses['business_id']== '5EvUIR4IzCWUOm0PsUZXjA']['stars'])"
   ]
  },
  {
   "cell_type": "markdown",
   "metadata": {},
   "source": [
    " What feature, or column, do the DataFrames have in common?"
   ]
  },
  {
   "cell_type": "markdown",
   "metadata": {},
   "source": [
    "## Merge the Data\n",
    "\n",
    "Since we are working with data from several files, we need to combine the data into a single DataFrame that allows us to analyze the different features with respect to our target variable, the Yelp rating. We can do this by merging the multiple DataFrames we have together, joining them on the columns they have in common. In our case, this unique identifying column is the `business_id`. We can merge two DataFrames together with the following syntax:\n",
    "\n",
    "```python\n",
    "pd.merge(left, right, how='inner/outer/left/right', on='column(s)_to_merge_on')\n",
    "```\n",
    "* `left` is the DataFrame on the left side of our merge\n",
    "* `right` is the DataFrame on the right side of our merge\n",
    "* `how` describes the style of merge we want to complete (similar to inner/outer/left/right joins in SQL)\n",
    "* `on` is the column or columns to perform the merge on (the column connecting the two tables)\n",
    "\n",
    "Given our six DataFrames, we will need to perform 5 merges to combine all the data into one DataFrame. In the cell below we merged the business table and the review table into a new DataFrame, `df`, for you. After the merge we've added all the rows from `businesses` and `reviews` together, but kept the same total number of rows! Run the cell to perform the merge and confirm the number of rows in `df`. "
   ]
  },
  {
   "cell_type": "code",
   "execution_count": 14,
   "metadata": {},
   "outputs": [
    {
     "name": "stdout",
     "output_type": "stream",
     "text": [
      "188593\n"
     ]
    }
   ],
   "source": [
    "df = pd.merge(businesses, reviews, how='left', on='business_id')\n",
    "print(len(df))"
   ]
  },
  {
   "cell_type": "markdown",
   "metadata": {},
   "source": [
    "Merge each of the other 4 DataFrames into our new DataFrame `df` to combine all the data together. Make sure that `df` is the left DataFrame in each merge and `how=left` since not every DataFrame includes every business in the dataset (this way we won't lose any data during the merges). Once combined, print out the columns of `df`. What features are in this new DataFrame?"
   ]
  },
  {
   "cell_type": "code",
   "execution_count": 15,
   "metadata": {
    "ExecuteTime": {
     "end_time": "2018-09-14T14:51:24.043166Z",
     "start_time": "2018-09-14T14:51:22.538823Z"
    }
   },
   "outputs": [
    {
     "name": "stdout",
     "output_type": "stream",
     "text": [
      "Index(['address', 'alcohol?', 'attributes', 'business_id', 'categories',\n",
      "       'city', 'good_for_kids', 'has_bike_parking', 'has_wifi', 'hours',\n",
      "       'is_open', 'latitude', 'longitude', 'name', 'neighborhood',\n",
      "       'postal_code', 'price_range', 'review_count', 'stars', 'state',\n",
      "       'take_reservations', 'takes_credit_cards', 'average_review_age',\n",
      "       'average_review_length', 'average_review_sentiment',\n",
      "       'number_funny_votes', 'number_cool_votes', 'number_useful_votes',\n",
      "       'average_number_friends', 'average_days_on_yelp', 'average_number_fans',\n",
      "       'average_review_count', 'average_number_years_elite', 'time',\n",
      "       'weekday_checkins', 'weekend_checkins', 'average_tip_length',\n",
      "       'number_tips', 'average_caption_length', 'number_pics'],\n",
      "      dtype='object')\n"
     ]
    }
   ],
   "source": [
    "df = pd.merge(df, users, how='left', on='business_id')\n",
    "df = pd.merge(df, checkins, how='left', on='business_id')\n",
    "df = pd.merge(df, tips, how='left', on='business_id')\n",
    "df = pd.merge(df, photos, how='left', on='business_id')\n",
    "print(df.columns)"
   ]
  },
  {
   "cell_type": "markdown",
   "metadata": {},
   "source": [
    "## Clean the Data\n",
    "\n",
    "We are getting really close to the fun analysis part! We just have to clean our data a bit so we can focus on the features that might have predictive power for determining an establishment's Yelp rating.\n",
    "\n",
    "In a Linear Regression model, our features will ideally be continuous variables that have an affect on our dependent variable, the Yelp rating. For this project with will also be working with some features that are binary, on the scale [0,1]. With this information, we can remove any columns in the dataset that are not continuous or binary, and that we do not want to make predictions on. The cell below contains a list of these unnecessary features. Drop them from `df` with Pandas' drop syntax, provided below:\n",
    "\n",
    "```python\n",
    "df.drop(list_of_features_to_remove, axis=1, inplace=True)\n",
    "```\n",
    "\n",
    "* `list_of_features_to_remove` is, you guessed it, the list of features we want to remove!\n",
    "* `axis=1` lets Pandas know we want to drop columns, not rows, from our DataFrame (axis=0 is used for computations along rows!) \n",
    "* `inplace=True` lets us drop the columns right here in our DataFrame, instead of returning a new DataFrame that we could store in a new variable"
   ]
  },
  {
   "cell_type": "code",
   "execution_count": 101,
   "metadata": {
    "scrolled": true
   },
   "outputs": [
    {
     "ename": "KeyError",
     "evalue": "\"['address' 'attributes' 'business_id' 'categories' 'city' 'hours'\\n 'is_open' 'latitude' 'longitude' 'name' 'neighborhood' 'postal_code'\\n 'state'] not found in axis\"",
     "output_type": "error",
     "traceback": [
      "\u001b[1;31m---------------------------------------------------------------------------\u001b[0m",
      "\u001b[1;31mKeyError\u001b[0m                                  Traceback (most recent call last)",
      "\u001b[1;32m<ipython-input-101-01ddf5ddb477>\u001b[0m in \u001b[0;36m<module>\u001b[1;34m\u001b[0m\n\u001b[0;32m      1\u001b[0m \u001b[0mfeatures_to_remove\u001b[0m \u001b[1;33m=\u001b[0m \u001b[1;33m[\u001b[0m\u001b[1;34m'address'\u001b[0m\u001b[1;33m,\u001b[0m\u001b[1;34m'attributes'\u001b[0m\u001b[1;33m,\u001b[0m\u001b[1;34m'business_id'\u001b[0m\u001b[1;33m,\u001b[0m\u001b[1;34m'categories'\u001b[0m\u001b[1;33m,\u001b[0m\u001b[1;34m'city'\u001b[0m\u001b[1;33m,\u001b[0m\u001b[1;34m'hours'\u001b[0m\u001b[1;33m,\u001b[0m\u001b[1;34m'is_open'\u001b[0m\u001b[1;33m,\u001b[0m\u001b[1;34m'latitude'\u001b[0m\u001b[1;33m,\u001b[0m\u001b[1;34m'longitude'\u001b[0m\u001b[1;33m,\u001b[0m\u001b[1;34m'name'\u001b[0m\u001b[1;33m,\u001b[0m\u001b[1;34m'neighborhood'\u001b[0m\u001b[1;33m,\u001b[0m\u001b[1;34m'postal_code'\u001b[0m\u001b[1;33m,\u001b[0m\u001b[1;34m'state'\u001b[0m\u001b[1;33m]\u001b[0m\u001b[1;33m\u001b[0m\u001b[1;33m\u001b[0m\u001b[0m\n\u001b[1;32m----> 2\u001b[1;33m \u001b[0mdf\u001b[0m\u001b[1;33m.\u001b[0m\u001b[0mdrop\u001b[0m\u001b[1;33m(\u001b[0m\u001b[0mlabels\u001b[0m\u001b[1;33m=\u001b[0m\u001b[0mfeatures_to_remove\u001b[0m\u001b[1;33m,\u001b[0m \u001b[0maxis\u001b[0m\u001b[1;33m=\u001b[0m\u001b[1;36m1\u001b[0m\u001b[1;33m,\u001b[0m \u001b[0minplace\u001b[0m\u001b[1;33m=\u001b[0m\u001b[1;32mTrue\u001b[0m\u001b[1;33m)\u001b[0m\u001b[1;33m\u001b[0m\u001b[1;33m\u001b[0m\u001b[0m\n\u001b[0m",
      "\u001b[1;32m~\\anaconda3\\lib\\site-packages\\pandas\\core\\frame.py\u001b[0m in \u001b[0;36mdrop\u001b[1;34m(self, labels, axis, index, columns, level, inplace, errors)\u001b[0m\n\u001b[0;32m   4306\u001b[0m                 \u001b[0mweight\u001b[0m  \u001b[1;36m1.0\u001b[0m     \u001b[1;36m0.8\u001b[0m\u001b[1;33m\u001b[0m\u001b[1;33m\u001b[0m\u001b[0m\n\u001b[0;32m   4307\u001b[0m         \"\"\"\n\u001b[1;32m-> 4308\u001b[1;33m         return super().drop(\n\u001b[0m\u001b[0;32m   4309\u001b[0m             \u001b[0mlabels\u001b[0m\u001b[1;33m=\u001b[0m\u001b[0mlabels\u001b[0m\u001b[1;33m,\u001b[0m\u001b[1;33m\u001b[0m\u001b[1;33m\u001b[0m\u001b[0m\n\u001b[0;32m   4310\u001b[0m             \u001b[0maxis\u001b[0m\u001b[1;33m=\u001b[0m\u001b[0maxis\u001b[0m\u001b[1;33m,\u001b[0m\u001b[1;33m\u001b[0m\u001b[1;33m\u001b[0m\u001b[0m\n",
      "\u001b[1;32m~\\anaconda3\\lib\\site-packages\\pandas\\core\\generic.py\u001b[0m in \u001b[0;36mdrop\u001b[1;34m(self, labels, axis, index, columns, level, inplace, errors)\u001b[0m\n\u001b[0;32m   4151\u001b[0m         \u001b[1;32mfor\u001b[0m \u001b[0maxis\u001b[0m\u001b[1;33m,\u001b[0m \u001b[0mlabels\u001b[0m \u001b[1;32min\u001b[0m \u001b[0maxes\u001b[0m\u001b[1;33m.\u001b[0m\u001b[0mitems\u001b[0m\u001b[1;33m(\u001b[0m\u001b[1;33m)\u001b[0m\u001b[1;33m:\u001b[0m\u001b[1;33m\u001b[0m\u001b[1;33m\u001b[0m\u001b[0m\n\u001b[0;32m   4152\u001b[0m             \u001b[1;32mif\u001b[0m \u001b[0mlabels\u001b[0m \u001b[1;32mis\u001b[0m \u001b[1;32mnot\u001b[0m \u001b[1;32mNone\u001b[0m\u001b[1;33m:\u001b[0m\u001b[1;33m\u001b[0m\u001b[1;33m\u001b[0m\u001b[0m\n\u001b[1;32m-> 4153\u001b[1;33m                 \u001b[0mobj\u001b[0m \u001b[1;33m=\u001b[0m \u001b[0mobj\u001b[0m\u001b[1;33m.\u001b[0m\u001b[0m_drop_axis\u001b[0m\u001b[1;33m(\u001b[0m\u001b[0mlabels\u001b[0m\u001b[1;33m,\u001b[0m \u001b[0maxis\u001b[0m\u001b[1;33m,\u001b[0m \u001b[0mlevel\u001b[0m\u001b[1;33m=\u001b[0m\u001b[0mlevel\u001b[0m\u001b[1;33m,\u001b[0m \u001b[0merrors\u001b[0m\u001b[1;33m=\u001b[0m\u001b[0merrors\u001b[0m\u001b[1;33m)\u001b[0m\u001b[1;33m\u001b[0m\u001b[1;33m\u001b[0m\u001b[0m\n\u001b[0m\u001b[0;32m   4154\u001b[0m \u001b[1;33m\u001b[0m\u001b[0m\n\u001b[0;32m   4155\u001b[0m         \u001b[1;32mif\u001b[0m \u001b[0minplace\u001b[0m\u001b[1;33m:\u001b[0m\u001b[1;33m\u001b[0m\u001b[1;33m\u001b[0m\u001b[0m\n",
      "\u001b[1;32m~\\anaconda3\\lib\\site-packages\\pandas\\core\\generic.py\u001b[0m in \u001b[0;36m_drop_axis\u001b[1;34m(self, labels, axis, level, errors)\u001b[0m\n\u001b[0;32m   4186\u001b[0m                 \u001b[0mnew_axis\u001b[0m \u001b[1;33m=\u001b[0m \u001b[0maxis\u001b[0m\u001b[1;33m.\u001b[0m\u001b[0mdrop\u001b[0m\u001b[1;33m(\u001b[0m\u001b[0mlabels\u001b[0m\u001b[1;33m,\u001b[0m \u001b[0mlevel\u001b[0m\u001b[1;33m=\u001b[0m\u001b[0mlevel\u001b[0m\u001b[1;33m,\u001b[0m \u001b[0merrors\u001b[0m\u001b[1;33m=\u001b[0m\u001b[0merrors\u001b[0m\u001b[1;33m)\u001b[0m\u001b[1;33m\u001b[0m\u001b[1;33m\u001b[0m\u001b[0m\n\u001b[0;32m   4187\u001b[0m             \u001b[1;32melse\u001b[0m\u001b[1;33m:\u001b[0m\u001b[1;33m\u001b[0m\u001b[1;33m\u001b[0m\u001b[0m\n\u001b[1;32m-> 4188\u001b[1;33m                 \u001b[0mnew_axis\u001b[0m \u001b[1;33m=\u001b[0m \u001b[0maxis\u001b[0m\u001b[1;33m.\u001b[0m\u001b[0mdrop\u001b[0m\u001b[1;33m(\u001b[0m\u001b[0mlabels\u001b[0m\u001b[1;33m,\u001b[0m \u001b[0merrors\u001b[0m\u001b[1;33m=\u001b[0m\u001b[0merrors\u001b[0m\u001b[1;33m)\u001b[0m\u001b[1;33m\u001b[0m\u001b[1;33m\u001b[0m\u001b[0m\n\u001b[0m\u001b[0;32m   4189\u001b[0m             \u001b[0mresult\u001b[0m \u001b[1;33m=\u001b[0m \u001b[0mself\u001b[0m\u001b[1;33m.\u001b[0m\u001b[0mreindex\u001b[0m\u001b[1;33m(\u001b[0m\u001b[1;33m**\u001b[0m\u001b[1;33m{\u001b[0m\u001b[0maxis_name\u001b[0m\u001b[1;33m:\u001b[0m \u001b[0mnew_axis\u001b[0m\u001b[1;33m}\u001b[0m\u001b[1;33m)\u001b[0m\u001b[1;33m\u001b[0m\u001b[1;33m\u001b[0m\u001b[0m\n\u001b[0;32m   4190\u001b[0m \u001b[1;33m\u001b[0m\u001b[0m\n",
      "\u001b[1;32m~\\anaconda3\\lib\\site-packages\\pandas\\core\\indexes\\base.py\u001b[0m in \u001b[0;36mdrop\u001b[1;34m(self, labels, errors)\u001b[0m\n\u001b[0;32m   5589\u001b[0m         \u001b[1;32mif\u001b[0m \u001b[0mmask\u001b[0m\u001b[1;33m.\u001b[0m\u001b[0many\u001b[0m\u001b[1;33m(\u001b[0m\u001b[1;33m)\u001b[0m\u001b[1;33m:\u001b[0m\u001b[1;33m\u001b[0m\u001b[1;33m\u001b[0m\u001b[0m\n\u001b[0;32m   5590\u001b[0m             \u001b[1;32mif\u001b[0m \u001b[0merrors\u001b[0m \u001b[1;33m!=\u001b[0m \u001b[1;34m\"ignore\"\u001b[0m\u001b[1;33m:\u001b[0m\u001b[1;33m\u001b[0m\u001b[1;33m\u001b[0m\u001b[0m\n\u001b[1;32m-> 5591\u001b[1;33m                 \u001b[1;32mraise\u001b[0m \u001b[0mKeyError\u001b[0m\u001b[1;33m(\u001b[0m\u001b[1;34mf\"{labels[mask]} not found in axis\"\u001b[0m\u001b[1;33m)\u001b[0m\u001b[1;33m\u001b[0m\u001b[1;33m\u001b[0m\u001b[0m\n\u001b[0m\u001b[0;32m   5592\u001b[0m             \u001b[0mindexer\u001b[0m \u001b[1;33m=\u001b[0m \u001b[0mindexer\u001b[0m\u001b[1;33m[\u001b[0m\u001b[1;33m~\u001b[0m\u001b[0mmask\u001b[0m\u001b[1;33m]\u001b[0m\u001b[1;33m\u001b[0m\u001b[1;33m\u001b[0m\u001b[0m\n\u001b[0;32m   5593\u001b[0m         \u001b[1;32mreturn\u001b[0m \u001b[0mself\u001b[0m\u001b[1;33m.\u001b[0m\u001b[0mdelete\u001b[0m\u001b[1;33m(\u001b[0m\u001b[0mindexer\u001b[0m\u001b[1;33m)\u001b[0m\u001b[1;33m\u001b[0m\u001b[1;33m\u001b[0m\u001b[0m\n",
      "\u001b[1;31mKeyError\u001b[0m: \"['address' 'attributes' 'business_id' 'categories' 'city' 'hours'\\n 'is_open' 'latitude' 'longitude' 'name' 'neighborhood' 'postal_code'\\n 'state'] not found in axis\""
     ]
    }
   ],
   "source": [
    "features_to_remove = ['address','attributes','business_id','categories','city','hours','is_open','latitude','longitude','name','neighborhood','postal_code','state']\n",
    "df.drop(labels=features_to_remove, axis=1, inplace=True)"
   ]
  },
  {
   "cell_type": "code",
   "execution_count": 103,
   "metadata": {},
   "outputs": [],
   "source": [
    "remove = ['time']\n",
    "df.drop(labels=remove, axis=1, inplace=True )"
   ]
  },
  {
   "cell_type": "markdown",
   "metadata": {},
   "source": [
    "Now we just have to check our data to make sure we don't have any missing values, or `NaN`s, which will prevent the Linear Regression model from running correctly. To do this we can use the statement `df.isna().any()`. This will check all of our columns and return `True` if there are any missing values or `NaN`s, or `False` if there are no missing values. Check if `df` is missing any values."
   ]
  },
  {
   "cell_type": "code",
   "execution_count": 104,
   "metadata": {
    "ExecuteTime": {
     "end_time": "2018-09-14T14:51:24.649109Z",
     "start_time": "2018-09-14T14:51:24.581948Z"
    }
   },
   "outputs": [
    {
     "data": {
      "text/plain": [
       "alcohol?                      False\n",
       "good_for_kids                 False\n",
       "has_bike_parking              False\n",
       "has_wifi                      False\n",
       "price_range                   False\n",
       "review_count                  False\n",
       "stars                         False\n",
       "take_reservations             False\n",
       "takes_credit_cards            False\n",
       "average_review_age            False\n",
       "average_review_length         False\n",
       "average_review_sentiment      False\n",
       "number_funny_votes            False\n",
       "number_cool_votes             False\n",
       "number_useful_votes           False\n",
       "average_number_friends        False\n",
       "average_days_on_yelp          False\n",
       "average_number_fans           False\n",
       "average_review_count          False\n",
       "average_number_years_elite    False\n",
       "weekday_checkins               True\n",
       "weekend_checkins               True\n",
       "average_tip_length             True\n",
       "number_tips                    True\n",
       "average_caption_length         True\n",
       "number_pics                    True\n",
       "dtype: bool"
      ]
     },
     "execution_count": 104,
     "metadata": {},
     "output_type": "execute_result"
    }
   ],
   "source": [
    "df.isna().any()"
   ]
  },
  {
   "cell_type": "markdown",
   "metadata": {},
   "source": [
    "As you can see, there are a few columns with missing values. Since our dataset has no information recorded for some businesses in these columns, we will assume the Yelp pages did not display these features. For example, if there is a `NaN` value for `number_pics`, it means that the associated business did not have any pictures posted on its Yelp page. Thus we can replace all of our `NaN`s with `0`s. To do this we can use the `.fillna()` method, which takes a dictionary as shown below:\n",
    "\n",
    "```python\n",
    "df.fillna({'column_1':val_to_replace_na,\n",
    "           'column_2':val_to_replace_na,\n",
    "           'column_3':val_to_replace_na},\n",
    "          inplace=True)\n",
    "```\n",
    "\n",
    "* `column_1`, `column_2`, and `column_3` are the columns with missing values that we want to fill. We can include as many columns as we like in the dictionary that is passed to `.fill_na()`\n",
    "* `val_to_replace_na` is the value that will replace the missing values, or `NaN`s\n",
    "* `inplace=True` since we want to perform our changes in place and not return a new DataFrame\n",
    "\n",
    "Fill the missing values in `df` with `0`. Afterwards, confirm the missing values have been filled with `df.isna().any()`."
   ]
  },
  {
   "cell_type": "code",
   "execution_count": 107,
   "metadata": {
    "ExecuteTime": {
     "end_time": "2018-09-14T14:51:24.661609Z",
     "start_time": "2018-09-14T14:51:24.650866Z"
    }
   },
   "outputs": [
    {
     "data": {
      "text/plain": [
       "alcohol?                      False\n",
       "good_for_kids                 False\n",
       "has_bike_parking              False\n",
       "has_wifi                      False\n",
       "price_range                   False\n",
       "review_count                  False\n",
       "stars                         False\n",
       "take_reservations             False\n",
       "takes_credit_cards            False\n",
       "average_review_age            False\n",
       "average_review_length         False\n",
       "average_review_sentiment      False\n",
       "number_funny_votes            False\n",
       "number_cool_votes             False\n",
       "number_useful_votes           False\n",
       "average_number_friends        False\n",
       "average_days_on_yelp          False\n",
       "average_number_fans           False\n",
       "average_review_count          False\n",
       "average_number_years_elite    False\n",
       "weekday_checkins              False\n",
       "weekend_checkins              False\n",
       "average_tip_length            False\n",
       "number_tips                   False\n",
       "average_caption_length        False\n",
       "number_pics                   False\n",
       "dtype: bool"
      ]
     },
     "execution_count": 107,
     "metadata": {},
     "output_type": "execute_result"
    }
   ],
   "source": [
    "df.fillna({'weekday_checkins':0,\n",
    "           'weekend_checkins':0,\n",
    "           'average_tip_length':0,\n",
    "           'number_tips':0,\n",
    "           'average_caption_length':0,\n",
    "           'number_pics':0},\n",
    "          inplace=True)\n",
    "df.isna().any()"
   ]
  },
  {
   "cell_type": "markdown",
   "metadata": {},
   "source": [
    "## Exploratory Analysis\n",
    "\n",
    "Now that our data is all together, let's investigate some of the different features to see what might correlate most with our dependent variable, the Yelp rating (called `stars` in our DataFrame). The features with the best correlations could prove to be the most helpful for our Linear Regression model! Pandas DataFrames have a really helpful method, `.corr()`, that allows us to see the correlation coefficients for each pair of our different features. Remember, a correlation of `0` indicates that two features have no linear relationship, a correlation coefficient of `1` indicates two features have a perfect positive linear relationship, and a correlation coefficient of `-1` indicates two features have a perfect negative linear relationship. Call `.corr()` on `df`. You'll see that `number_funny_votes` has a correlation coefficient of `0.001320` with respect to `stars`, our Yelp rating. This is a very weak correlation. What features best correlate, both positively and negatively, with Yelp rating?"
   ]
  },
  {
   "cell_type": "code",
   "execution_count": 26,
   "metadata": {
    "ExecuteTime": {
     "end_time": "2018-09-14T14:51:24.968871Z",
     "start_time": "2018-09-14T14:51:24.725501Z"
    },
    "scrolled": true
   },
   "outputs": [
    {
     "data": {
      "text/html": [
       "<div>\n",
       "<style scoped>\n",
       "    .dataframe tbody tr th:only-of-type {\n",
       "        vertical-align: middle;\n",
       "    }\n",
       "\n",
       "    .dataframe tbody tr th {\n",
       "        vertical-align: top;\n",
       "    }\n",
       "\n",
       "    .dataframe thead th {\n",
       "        text-align: right;\n",
       "    }\n",
       "</style>\n",
       "<table border=\"1\" class=\"dataframe\">\n",
       "  <thead>\n",
       "    <tr style=\"text-align: right;\">\n",
       "      <th></th>\n",
       "      <th>alcohol?</th>\n",
       "      <th>good_for_kids</th>\n",
       "      <th>has_bike_parking</th>\n",
       "      <th>has_wifi</th>\n",
       "      <th>price_range</th>\n",
       "      <th>review_count</th>\n",
       "      <th>stars</th>\n",
       "      <th>take_reservations</th>\n",
       "      <th>takes_credit_cards</th>\n",
       "      <th>average_review_age</th>\n",
       "      <th>average_review_length</th>\n",
       "      <th>average_review_sentiment</th>\n",
       "      <th>number_funny_votes</th>\n",
       "      <th>number_cool_votes</th>\n",
       "      <th>number_useful_votes</th>\n",
       "      <th>average_number_friends</th>\n",
       "      <th>average_days_on_yelp</th>\n",
       "      <th>average_number_fans</th>\n",
       "      <th>average_review_count</th>\n",
       "      <th>average_number_years_elite</th>\n",
       "      <th>weekday_checkins</th>\n",
       "      <th>weekend_checkins</th>\n",
       "      <th>average_tip_length</th>\n",
       "      <th>number_tips</th>\n",
       "      <th>average_caption_length</th>\n",
       "      <th>number_pics</th>\n",
       "    </tr>\n",
       "  </thead>\n",
       "  <tbody>\n",
       "    <tr>\n",
       "      <th>alcohol?</th>\n",
       "      <td>1.000000</td>\n",
       "      <td>0.305284</td>\n",
       "      <td>0.213318</td>\n",
       "      <td>0.345032</td>\n",
       "      <td>0.349004</td>\n",
       "      <td>0.259836</td>\n",
       "      <td>-0.043332</td>\n",
       "      <td>0.601670</td>\n",
       "      <td>0.190738</td>\n",
       "      <td>0.139108</td>\n",
       "      <td>0.037369</td>\n",
       "      <td>0.097188</td>\n",
       "      <td>0.117472</td>\n",
       "      <td>0.188598</td>\n",
       "      <td>0.165775</td>\n",
       "      <td>0.015261</td>\n",
       "      <td>0.129901</td>\n",
       "      <td>0.017794</td>\n",
       "      <td>0.026846</td>\n",
       "      <td>0.099141</td>\n",
       "      <td>0.086857</td>\n",
       "      <td>0.123792</td>\n",
       "      <td>-0.061549</td>\n",
       "      <td>0.186180</td>\n",
       "      <td>0.015032</td>\n",
       "      <td>0.114528</td>\n",
       "    </tr>\n",
       "    <tr>\n",
       "      <th>good_for_kids</th>\n",
       "      <td>0.305284</td>\n",
       "      <td>1.000000</td>\n",
       "      <td>0.271788</td>\n",
       "      <td>0.258887</td>\n",
       "      <td>0.205513</td>\n",
       "      <td>0.162469</td>\n",
       "      <td>-0.030382</td>\n",
       "      <td>0.318729</td>\n",
       "      <td>0.150360</td>\n",
       "      <td>0.055847</td>\n",
       "      <td>-0.079183</td>\n",
       "      <td>0.073806</td>\n",
       "      <td>0.060658</td>\n",
       "      <td>0.113262</td>\n",
       "      <td>0.083832</td>\n",
       "      <td>0.016557</td>\n",
       "      <td>0.045057</td>\n",
       "      <td>0.024901</td>\n",
       "      <td>0.040692</td>\n",
       "      <td>0.094233</td>\n",
       "      <td>0.057413</td>\n",
       "      <td>0.067527</td>\n",
       "      <td>-0.071286</td>\n",
       "      <td>0.127854</td>\n",
       "      <td>0.023226</td>\n",
       "      <td>-0.012150</td>\n",
       "    </tr>\n",
       "    <tr>\n",
       "      <th>has_bike_parking</th>\n",
       "      <td>0.213318</td>\n",
       "      <td>0.271788</td>\n",
       "      <td>1.000000</td>\n",
       "      <td>0.235138</td>\n",
       "      <td>0.416044</td>\n",
       "      <td>0.155505</td>\n",
       "      <td>0.068084</td>\n",
       "      <td>0.160129</td>\n",
       "      <td>0.286298</td>\n",
       "      <td>-0.080443</td>\n",
       "      <td>-0.116295</td>\n",
       "      <td>0.130448</td>\n",
       "      <td>0.060595</td>\n",
       "      <td>0.114094</td>\n",
       "      <td>0.094000</td>\n",
       "      <td>0.028307</td>\n",
       "      <td>-0.045849</td>\n",
       "      <td>0.018120</td>\n",
       "      <td>0.031203</td>\n",
       "      <td>0.083062</td>\n",
       "      <td>0.071334</td>\n",
       "      <td>0.081765</td>\n",
       "      <td>-0.055163</td>\n",
       "      <td>0.116866</td>\n",
       "      <td>0.059149</td>\n",
       "      <td>0.020373</td>\n",
       "    </tr>\n",
       "    <tr>\n",
       "      <th>has_wifi</th>\n",
       "      <td>0.345032</td>\n",
       "      <td>0.258887</td>\n",
       "      <td>0.235138</td>\n",
       "      <td>1.000000</td>\n",
       "      <td>0.240796</td>\n",
       "      <td>0.195737</td>\n",
       "      <td>-0.039857</td>\n",
       "      <td>0.312217</td>\n",
       "      <td>0.155098</td>\n",
       "      <td>-0.034258</td>\n",
       "      <td>-0.037712</td>\n",
       "      <td>0.054699</td>\n",
       "      <td>0.082213</td>\n",
       "      <td>0.147320</td>\n",
       "      <td>0.120622</td>\n",
       "      <td>0.015937</td>\n",
       "      <td>0.000448</td>\n",
       "      <td>0.023913</td>\n",
       "      <td>0.044006</td>\n",
       "      <td>0.082863</td>\n",
       "      <td>0.099400</td>\n",
       "      <td>0.118358</td>\n",
       "      <td>-0.046675</td>\n",
       "      <td>0.148235</td>\n",
       "      <td>0.023354</td>\n",
       "      <td>0.095858</td>\n",
       "    </tr>\n",
       "    <tr>\n",
       "      <th>price_range</th>\n",
       "      <td>0.349004</td>\n",
       "      <td>0.205513</td>\n",
       "      <td>0.416044</td>\n",
       "      <td>0.240796</td>\n",
       "      <td>1.000000</td>\n",
       "      <td>0.148277</td>\n",
       "      <td>-0.052565</td>\n",
       "      <td>0.316105</td>\n",
       "      <td>0.400742</td>\n",
       "      <td>0.189623</td>\n",
       "      <td>0.003850</td>\n",
       "      <td>0.089349</td>\n",
       "      <td>0.073215</td>\n",
       "      <td>0.119422</td>\n",
       "      <td>0.098990</td>\n",
       "      <td>0.087231</td>\n",
       "      <td>0.176133</td>\n",
       "      <td>0.104221</td>\n",
       "      <td>0.122982</td>\n",
       "      <td>0.210487</td>\n",
       "      <td>0.044262</td>\n",
       "      <td>0.068725</td>\n",
       "      <td>-0.062605</td>\n",
       "      <td>0.097271</td>\n",
       "      <td>0.032623</td>\n",
       "      <td>0.149506</td>\n",
       "    </tr>\n",
       "    <tr>\n",
       "      <th>review_count</th>\n",
       "      <td>0.259836</td>\n",
       "      <td>0.162469</td>\n",
       "      <td>0.155505</td>\n",
       "      <td>0.195737</td>\n",
       "      <td>0.148277</td>\n",
       "      <td>1.000000</td>\n",
       "      <td>0.032413</td>\n",
       "      <td>0.187755</td>\n",
       "      <td>0.119984</td>\n",
       "      <td>0.010070</td>\n",
       "      <td>0.004748</td>\n",
       "      <td>0.076265</td>\n",
       "      <td>0.548164</td>\n",
       "      <td>0.860767</td>\n",
       "      <td>0.746949</td>\n",
       "      <td>0.026206</td>\n",
       "      <td>0.050451</td>\n",
       "      <td>0.000474</td>\n",
       "      <td>-0.002576</td>\n",
       "      <td>0.014712</td>\n",
       "      <td>0.565412</td>\n",
       "      <td>0.698360</td>\n",
       "      <td>-0.026216</td>\n",
       "      <td>0.840421</td>\n",
       "      <td>0.060201</td>\n",
       "      <td>0.621626</td>\n",
       "    </tr>\n",
       "    <tr>\n",
       "      <th>stars</th>\n",
       "      <td>-0.043332</td>\n",
       "      <td>-0.030382</td>\n",
       "      <td>0.068084</td>\n",
       "      <td>-0.039857</td>\n",
       "      <td>-0.052565</td>\n",
       "      <td>0.032413</td>\n",
       "      <td>1.000000</td>\n",
       "      <td>-0.024486</td>\n",
       "      <td>0.037748</td>\n",
       "      <td>-0.125645</td>\n",
       "      <td>-0.277081</td>\n",
       "      <td>0.782187</td>\n",
       "      <td>0.001320</td>\n",
       "      <td>0.043375</td>\n",
       "      <td>-0.000066</td>\n",
       "      <td>-0.007629</td>\n",
       "      <td>-0.038061</td>\n",
       "      <td>-0.031141</td>\n",
       "      <td>-0.066572</td>\n",
       "      <td>-0.064419</td>\n",
       "      <td>0.007972</td>\n",
       "      <td>0.012630</td>\n",
       "      <td>-0.043203</td>\n",
       "      <td>0.031368</td>\n",
       "      <td>0.085899</td>\n",
       "      <td>0.053011</td>\n",
       "    </tr>\n",
       "    <tr>\n",
       "      <th>take_reservations</th>\n",
       "      <td>0.601670</td>\n",
       "      <td>0.318729</td>\n",
       "      <td>0.160129</td>\n",
       "      <td>0.312217</td>\n",
       "      <td>0.316105</td>\n",
       "      <td>0.187755</td>\n",
       "      <td>-0.024486</td>\n",
       "      <td>1.000000</td>\n",
       "      <td>0.127941</td>\n",
       "      <td>0.064098</td>\n",
       "      <td>0.046331</td>\n",
       "      <td>0.086728</td>\n",
       "      <td>0.071131</td>\n",
       "      <td>0.129165</td>\n",
       "      <td>0.115583</td>\n",
       "      <td>-0.025522</td>\n",
       "      <td>0.048850</td>\n",
       "      <td>0.001131</td>\n",
       "      <td>0.010618</td>\n",
       "      <td>0.063990</td>\n",
       "      <td>0.045924</td>\n",
       "      <td>0.068772</td>\n",
       "      <td>-0.036298</td>\n",
       "      <td>0.114617</td>\n",
       "      <td>0.012976</td>\n",
       "      <td>0.091564</td>\n",
       "    </tr>\n",
       "    <tr>\n",
       "      <th>takes_credit_cards</th>\n",
       "      <td>0.190738</td>\n",
       "      <td>0.150360</td>\n",
       "      <td>0.286298</td>\n",
       "      <td>0.155098</td>\n",
       "      <td>0.400742</td>\n",
       "      <td>0.119984</td>\n",
       "      <td>0.037748</td>\n",
       "      <td>0.127941</td>\n",
       "      <td>1.000000</td>\n",
       "      <td>0.056399</td>\n",
       "      <td>-0.081383</td>\n",
       "      <td>0.084171</td>\n",
       "      <td>0.049945</td>\n",
       "      <td>0.079879</td>\n",
       "      <td>0.077804</td>\n",
       "      <td>0.027924</td>\n",
       "      <td>0.078443</td>\n",
       "      <td>-0.007124</td>\n",
       "      <td>-0.005260</td>\n",
       "      <td>0.009551</td>\n",
       "      <td>0.040217</td>\n",
       "      <td>0.048758</td>\n",
       "      <td>-0.034953</td>\n",
       "      <td>0.080907</td>\n",
       "      <td>0.044348</td>\n",
       "      <td>0.050621</td>\n",
       "    </tr>\n",
       "    <tr>\n",
       "      <th>average_review_age</th>\n",
       "      <td>0.139108</td>\n",
       "      <td>0.055847</td>\n",
       "      <td>-0.080443</td>\n",
       "      <td>-0.034258</td>\n",
       "      <td>0.189623</td>\n",
       "      <td>0.010070</td>\n",
       "      <td>-0.125645</td>\n",
       "      <td>0.064098</td>\n",
       "      <td>0.056399</td>\n",
       "      <td>1.000000</td>\n",
       "      <td>0.192355</td>\n",
       "      <td>0.003662</td>\n",
       "      <td>0.032199</td>\n",
       "      <td>0.031577</td>\n",
       "      <td>0.028122</td>\n",
       "      <td>0.218990</td>\n",
       "      <td>0.820888</td>\n",
       "      <td>0.243377</td>\n",
       "      <td>0.261623</td>\n",
       "      <td>0.377335</td>\n",
       "      <td>0.026615</td>\n",
       "      <td>0.031857</td>\n",
       "      <td>-0.071930</td>\n",
       "      <td>0.053226</td>\n",
       "      <td>0.000782</td>\n",
       "      <td>-0.072083</td>\n",
       "    </tr>\n",
       "    <tr>\n",
       "      <th>average_review_length</th>\n",
       "      <td>0.037369</td>\n",
       "      <td>-0.079183</td>\n",
       "      <td>-0.116295</td>\n",
       "      <td>-0.037712</td>\n",
       "      <td>0.003850</td>\n",
       "      <td>0.004748</td>\n",
       "      <td>-0.277081</td>\n",
       "      <td>0.046331</td>\n",
       "      <td>-0.081383</td>\n",
       "      <td>0.192355</td>\n",
       "      <td>1.000000</td>\n",
       "      <td>-0.133078</td>\n",
       "      <td>0.027662</td>\n",
       "      <td>0.027976</td>\n",
       "      <td>0.059979</td>\n",
       "      <td>0.083495</td>\n",
       "      <td>0.178872</td>\n",
       "      <td>0.112397</td>\n",
       "      <td>0.088888</td>\n",
       "      <td>0.168261</td>\n",
       "      <td>0.002923</td>\n",
       "      <td>0.007801</td>\n",
       "      <td>0.085367</td>\n",
       "      <td>0.006931</td>\n",
       "      <td>0.027558</td>\n",
       "      <td>0.079083</td>\n",
       "    </tr>\n",
       "    <tr>\n",
       "      <th>average_review_sentiment</th>\n",
       "      <td>0.097188</td>\n",
       "      <td>0.073806</td>\n",
       "      <td>0.130448</td>\n",
       "      <td>0.054699</td>\n",
       "      <td>0.089349</td>\n",
       "      <td>0.076265</td>\n",
       "      <td>0.782187</td>\n",
       "      <td>0.086728</td>\n",
       "      <td>0.084171</td>\n",
       "      <td>0.003662</td>\n",
       "      <td>-0.133078</td>\n",
       "      <td>1.000000</td>\n",
       "      <td>0.026948</td>\n",
       "      <td>0.079057</td>\n",
       "      <td>0.035839</td>\n",
       "      <td>0.064738</td>\n",
       "      <td>0.083046</td>\n",
       "      <td>0.064385</td>\n",
       "      <td>0.045517</td>\n",
       "      <td>0.099804</td>\n",
       "      <td>0.026093</td>\n",
       "      <td>0.038348</td>\n",
       "      <td>-0.072295</td>\n",
       "      <td>0.066869</td>\n",
       "      <td>0.087239</td>\n",
       "      <td>0.053766</td>\n",
       "    </tr>\n",
       "    <tr>\n",
       "      <th>number_funny_votes</th>\n",
       "      <td>0.117472</td>\n",
       "      <td>0.060658</td>\n",
       "      <td>0.060595</td>\n",
       "      <td>0.082213</td>\n",
       "      <td>0.073215</td>\n",
       "      <td>0.548164</td>\n",
       "      <td>0.001320</td>\n",
       "      <td>0.071131</td>\n",
       "      <td>0.049945</td>\n",
       "      <td>0.032199</td>\n",
       "      <td>0.027662</td>\n",
       "      <td>0.026948</td>\n",
       "      <td>1.000000</td>\n",
       "      <td>0.725554</td>\n",
       "      <td>0.900795</td>\n",
       "      <td>0.045171</td>\n",
       "      <td>0.054688</td>\n",
       "      <td>0.028421</td>\n",
       "      <td>0.020624</td>\n",
       "      <td>0.034570</td>\n",
       "      <td>0.358480</td>\n",
       "      <td>0.442432</td>\n",
       "      <td>-0.010952</td>\n",
       "      <td>0.502462</td>\n",
       "      <td>0.030817</td>\n",
       "      <td>0.323042</td>\n",
       "    </tr>\n",
       "    <tr>\n",
       "      <th>number_cool_votes</th>\n",
       "      <td>0.188598</td>\n",
       "      <td>0.113262</td>\n",
       "      <td>0.114094</td>\n",
       "      <td>0.147320</td>\n",
       "      <td>0.119422</td>\n",
       "      <td>0.860767</td>\n",
       "      <td>0.043375</td>\n",
       "      <td>0.129165</td>\n",
       "      <td>0.079879</td>\n",
       "      <td>0.031577</td>\n",
       "      <td>0.027976</td>\n",
       "      <td>0.079057</td>\n",
       "      <td>0.725554</td>\n",
       "      <td>1.000000</td>\n",
       "      <td>0.863073</td>\n",
       "      <td>0.077186</td>\n",
       "      <td>0.077668</td>\n",
       "      <td>0.050303</td>\n",
       "      <td>0.035827</td>\n",
       "      <td>0.061395</td>\n",
       "      <td>0.558951</td>\n",
       "      <td>0.683090</td>\n",
       "      <td>-0.024879</td>\n",
       "      <td>0.774254</td>\n",
       "      <td>0.059901</td>\n",
       "      <td>0.608928</td>\n",
       "    </tr>\n",
       "    <tr>\n",
       "      <th>number_useful_votes</th>\n",
       "      <td>0.165775</td>\n",
       "      <td>0.083832</td>\n",
       "      <td>0.094000</td>\n",
       "      <td>0.120622</td>\n",
       "      <td>0.098990</td>\n",
       "      <td>0.746949</td>\n",
       "      <td>-0.000066</td>\n",
       "      <td>0.115583</td>\n",
       "      <td>0.077804</td>\n",
       "      <td>0.028122</td>\n",
       "      <td>0.059979</td>\n",
       "      <td>0.035839</td>\n",
       "      <td>0.900795</td>\n",
       "      <td>0.863073</td>\n",
       "      <td>1.000000</td>\n",
       "      <td>0.038893</td>\n",
       "      <td>0.061881</td>\n",
       "      <td>0.016645</td>\n",
       "      <td>0.006016</td>\n",
       "      <td>0.020459</td>\n",
       "      <td>0.449698</td>\n",
       "      <td>0.556505</td>\n",
       "      <td>-0.000147</td>\n",
       "      <td>0.643396</td>\n",
       "      <td>0.051195</td>\n",
       "      <td>0.479044</td>\n",
       "    </tr>\n",
       "    <tr>\n",
       "      <th>average_number_friends</th>\n",
       "      <td>0.015261</td>\n",
       "      <td>0.016557</td>\n",
       "      <td>0.028307</td>\n",
       "      <td>0.015937</td>\n",
       "      <td>0.087231</td>\n",
       "      <td>0.026206</td>\n",
       "      <td>-0.007629</td>\n",
       "      <td>-0.025522</td>\n",
       "      <td>0.027924</td>\n",
       "      <td>0.218990</td>\n",
       "      <td>0.083495</td>\n",
       "      <td>0.064738</td>\n",
       "      <td>0.045171</td>\n",
       "      <td>0.077186</td>\n",
       "      <td>0.038893</td>\n",
       "      <td>1.000000</td>\n",
       "      <td>0.315304</td>\n",
       "      <td>0.781161</td>\n",
       "      <td>0.545940</td>\n",
       "      <td>0.525380</td>\n",
       "      <td>0.047198</td>\n",
       "      <td>0.049970</td>\n",
       "      <td>-0.064177</td>\n",
       "      <td>0.045645</td>\n",
       "      <td>0.013508</td>\n",
       "      <td>0.039468</td>\n",
       "    </tr>\n",
       "    <tr>\n",
       "      <th>average_days_on_yelp</th>\n",
       "      <td>0.129901</td>\n",
       "      <td>0.045057</td>\n",
       "      <td>-0.045849</td>\n",
       "      <td>0.000448</td>\n",
       "      <td>0.176133</td>\n",
       "      <td>0.050451</td>\n",
       "      <td>-0.038061</td>\n",
       "      <td>0.048850</td>\n",
       "      <td>0.078443</td>\n",
       "      <td>0.820888</td>\n",
       "      <td>0.178872</td>\n",
       "      <td>0.083046</td>\n",
       "      <td>0.054688</td>\n",
       "      <td>0.077668</td>\n",
       "      <td>0.061881</td>\n",
       "      <td>0.315304</td>\n",
       "      <td>1.000000</td>\n",
       "      <td>0.320788</td>\n",
       "      <td>0.345481</td>\n",
       "      <td>0.467893</td>\n",
       "      <td>0.050006</td>\n",
       "      <td>0.059086</td>\n",
       "      <td>-0.080835</td>\n",
       "      <td>0.085253</td>\n",
       "      <td>0.030428</td>\n",
       "      <td>-0.004153</td>\n",
       "    </tr>\n",
       "    <tr>\n",
       "      <th>average_number_fans</th>\n",
       "      <td>0.017794</td>\n",
       "      <td>0.024901</td>\n",
       "      <td>0.018120</td>\n",
       "      <td>0.023913</td>\n",
       "      <td>0.104221</td>\n",
       "      <td>0.000474</td>\n",
       "      <td>-0.031141</td>\n",
       "      <td>0.001131</td>\n",
       "      <td>-0.007124</td>\n",
       "      <td>0.243377</td>\n",
       "      <td>0.112397</td>\n",
       "      <td>0.064385</td>\n",
       "      <td>0.028421</td>\n",
       "      <td>0.050303</td>\n",
       "      <td>0.016645</td>\n",
       "      <td>0.781161</td>\n",
       "      <td>0.320788</td>\n",
       "      <td>1.000000</td>\n",
       "      <td>0.798637</td>\n",
       "      <td>0.625891</td>\n",
       "      <td>0.022206</td>\n",
       "      <td>0.024114</td>\n",
       "      <td>-0.060695</td>\n",
       "      <td>0.010751</td>\n",
       "      <td>-0.008986</td>\n",
       "      <td>-0.004034</td>\n",
       "    </tr>\n",
       "    <tr>\n",
       "      <th>average_review_count</th>\n",
       "      <td>0.026846</td>\n",
       "      <td>0.040692</td>\n",
       "      <td>0.031203</td>\n",
       "      <td>0.044006</td>\n",
       "      <td>0.122982</td>\n",
       "      <td>-0.002576</td>\n",
       "      <td>-0.066572</td>\n",
       "      <td>0.010618</td>\n",
       "      <td>-0.005260</td>\n",
       "      <td>0.261623</td>\n",
       "      <td>0.088888</td>\n",
       "      <td>0.045517</td>\n",
       "      <td>0.020624</td>\n",
       "      <td>0.035827</td>\n",
       "      <td>0.006016</td>\n",
       "      <td>0.545940</td>\n",
       "      <td>0.345481</td>\n",
       "      <td>0.798637</td>\n",
       "      <td>1.000000</td>\n",
       "      <td>0.687701</td>\n",
       "      <td>0.020470</td>\n",
       "      <td>0.022202</td>\n",
       "      <td>-0.072228</td>\n",
       "      <td>0.004984</td>\n",
       "      <td>-0.030207</td>\n",
       "      <td>-0.018250</td>\n",
       "    </tr>\n",
       "    <tr>\n",
       "      <th>average_number_years_elite</th>\n",
       "      <td>0.099141</td>\n",
       "      <td>0.094233</td>\n",
       "      <td>0.083062</td>\n",
       "      <td>0.082863</td>\n",
       "      <td>0.210487</td>\n",
       "      <td>0.014712</td>\n",
       "      <td>-0.064419</td>\n",
       "      <td>0.063990</td>\n",
       "      <td>0.009551</td>\n",
       "      <td>0.377335</td>\n",
       "      <td>0.168261</td>\n",
       "      <td>0.099804</td>\n",
       "      <td>0.034570</td>\n",
       "      <td>0.061395</td>\n",
       "      <td>0.020459</td>\n",
       "      <td>0.525380</td>\n",
       "      <td>0.467893</td>\n",
       "      <td>0.625891</td>\n",
       "      <td>0.687701</td>\n",
       "      <td>1.000000</td>\n",
       "      <td>0.032237</td>\n",
       "      <td>0.038222</td>\n",
       "      <td>-0.100687</td>\n",
       "      <td>0.019674</td>\n",
       "      <td>-0.036829</td>\n",
       "      <td>-0.029379</td>\n",
       "    </tr>\n",
       "    <tr>\n",
       "      <th>weekday_checkins</th>\n",
       "      <td>0.086857</td>\n",
       "      <td>0.057413</td>\n",
       "      <td>0.071334</td>\n",
       "      <td>0.099400</td>\n",
       "      <td>0.044262</td>\n",
       "      <td>0.565412</td>\n",
       "      <td>0.007972</td>\n",
       "      <td>0.045924</td>\n",
       "      <td>0.040217</td>\n",
       "      <td>0.026615</td>\n",
       "      <td>0.002923</td>\n",
       "      <td>0.026093</td>\n",
       "      <td>0.358480</td>\n",
       "      <td>0.558951</td>\n",
       "      <td>0.449698</td>\n",
       "      <td>0.047198</td>\n",
       "      <td>0.050006</td>\n",
       "      <td>0.022206</td>\n",
       "      <td>0.020470</td>\n",
       "      <td>0.032237</td>\n",
       "      <td>1.000000</td>\n",
       "      <td>0.946914</td>\n",
       "      <td>-0.026548</td>\n",
       "      <td>0.801469</td>\n",
       "      <td>0.035011</td>\n",
       "      <td>0.449483</td>\n",
       "    </tr>\n",
       "    <tr>\n",
       "      <th>weekend_checkins</th>\n",
       "      <td>0.123792</td>\n",
       "      <td>0.067527</td>\n",
       "      <td>0.081765</td>\n",
       "      <td>0.118358</td>\n",
       "      <td>0.068725</td>\n",
       "      <td>0.698360</td>\n",
       "      <td>0.012630</td>\n",
       "      <td>0.068772</td>\n",
       "      <td>0.048758</td>\n",
       "      <td>0.031857</td>\n",
       "      <td>0.007801</td>\n",
       "      <td>0.038348</td>\n",
       "      <td>0.442432</td>\n",
       "      <td>0.683090</td>\n",
       "      <td>0.556505</td>\n",
       "      <td>0.049970</td>\n",
       "      <td>0.059086</td>\n",
       "      <td>0.024114</td>\n",
       "      <td>0.022202</td>\n",
       "      <td>0.038222</td>\n",
       "      <td>0.946914</td>\n",
       "      <td>1.000000</td>\n",
       "      <td>-0.030443</td>\n",
       "      <td>0.875127</td>\n",
       "      <td>0.031230</td>\n",
       "      <td>0.472853</td>\n",
       "    </tr>\n",
       "    <tr>\n",
       "      <th>average_tip_length</th>\n",
       "      <td>-0.061549</td>\n",
       "      <td>-0.071286</td>\n",
       "      <td>-0.055163</td>\n",
       "      <td>-0.046675</td>\n",
       "      <td>-0.062605</td>\n",
       "      <td>-0.026216</td>\n",
       "      <td>-0.043203</td>\n",
       "      <td>-0.036298</td>\n",
       "      <td>-0.034953</td>\n",
       "      <td>-0.071930</td>\n",
       "      <td>0.085367</td>\n",
       "      <td>-0.072295</td>\n",
       "      <td>-0.010952</td>\n",
       "      <td>-0.024879</td>\n",
       "      <td>-0.000147</td>\n",
       "      <td>-0.064177</td>\n",
       "      <td>-0.080835</td>\n",
       "      <td>-0.060695</td>\n",
       "      <td>-0.072228</td>\n",
       "      <td>-0.100687</td>\n",
       "      <td>-0.026548</td>\n",
       "      <td>-0.030443</td>\n",
       "      <td>1.000000</td>\n",
       "      <td>-0.041169</td>\n",
       "      <td>0.018240</td>\n",
       "      <td>0.001929</td>\n",
       "    </tr>\n",
       "    <tr>\n",
       "      <th>number_tips</th>\n",
       "      <td>0.186180</td>\n",
       "      <td>0.127854</td>\n",
       "      <td>0.116866</td>\n",
       "      <td>0.148235</td>\n",
       "      <td>0.097271</td>\n",
       "      <td>0.840421</td>\n",
       "      <td>0.031368</td>\n",
       "      <td>0.114617</td>\n",
       "      <td>0.080907</td>\n",
       "      <td>0.053226</td>\n",
       "      <td>0.006931</td>\n",
       "      <td>0.066869</td>\n",
       "      <td>0.502462</td>\n",
       "      <td>0.774254</td>\n",
       "      <td>0.643396</td>\n",
       "      <td>0.045645</td>\n",
       "      <td>0.085253</td>\n",
       "      <td>0.010751</td>\n",
       "      <td>0.004984</td>\n",
       "      <td>0.019674</td>\n",
       "      <td>0.801469</td>\n",
       "      <td>0.875127</td>\n",
       "      <td>-0.041169</td>\n",
       "      <td>1.000000</td>\n",
       "      <td>0.053391</td>\n",
       "      <td>0.485913</td>\n",
       "    </tr>\n",
       "    <tr>\n",
       "      <th>average_caption_length</th>\n",
       "      <td>0.015032</td>\n",
       "      <td>0.023226</td>\n",
       "      <td>0.059149</td>\n",
       "      <td>0.023354</td>\n",
       "      <td>0.032623</td>\n",
       "      <td>0.060201</td>\n",
       "      <td>0.085899</td>\n",
       "      <td>0.012976</td>\n",
       "      <td>0.044348</td>\n",
       "      <td>0.000782</td>\n",
       "      <td>0.027558</td>\n",
       "      <td>0.087239</td>\n",
       "      <td>0.030817</td>\n",
       "      <td>0.059901</td>\n",
       "      <td>0.051195</td>\n",
       "      <td>0.013508</td>\n",
       "      <td>0.030428</td>\n",
       "      <td>-0.008986</td>\n",
       "      <td>-0.030207</td>\n",
       "      <td>-0.036829</td>\n",
       "      <td>0.035011</td>\n",
       "      <td>0.031230</td>\n",
       "      <td>0.018240</td>\n",
       "      <td>0.053391</td>\n",
       "      <td>1.000000</td>\n",
       "      <td>0.026895</td>\n",
       "    </tr>\n",
       "    <tr>\n",
       "      <th>number_pics</th>\n",
       "      <td>0.114528</td>\n",
       "      <td>-0.012150</td>\n",
       "      <td>0.020373</td>\n",
       "      <td>0.095858</td>\n",
       "      <td>0.149506</td>\n",
       "      <td>0.621626</td>\n",
       "      <td>0.053011</td>\n",
       "      <td>0.091564</td>\n",
       "      <td>0.050621</td>\n",
       "      <td>-0.072083</td>\n",
       "      <td>0.079083</td>\n",
       "      <td>0.053766</td>\n",
       "      <td>0.323042</td>\n",
       "      <td>0.608928</td>\n",
       "      <td>0.479044</td>\n",
       "      <td>0.039468</td>\n",
       "      <td>-0.004153</td>\n",
       "      <td>-0.004034</td>\n",
       "      <td>-0.018250</td>\n",
       "      <td>-0.029379</td>\n",
       "      <td>0.449483</td>\n",
       "      <td>0.472853</td>\n",
       "      <td>0.001929</td>\n",
       "      <td>0.485913</td>\n",
       "      <td>0.026895</td>\n",
       "      <td>1.000000</td>\n",
       "    </tr>\n",
       "  </tbody>\n",
       "</table>\n",
       "</div>"
      ],
      "text/plain": [
       "                            alcohol?  good_for_kids  has_bike_parking  \\\n",
       "alcohol?                    1.000000       0.305284          0.213318   \n",
       "good_for_kids               0.305284       1.000000          0.271788   \n",
       "has_bike_parking            0.213318       0.271788          1.000000   \n",
       "has_wifi                    0.345032       0.258887          0.235138   \n",
       "price_range                 0.349004       0.205513          0.416044   \n",
       "review_count                0.259836       0.162469          0.155505   \n",
       "stars                      -0.043332      -0.030382          0.068084   \n",
       "take_reservations           0.601670       0.318729          0.160129   \n",
       "takes_credit_cards          0.190738       0.150360          0.286298   \n",
       "average_review_age          0.139108       0.055847         -0.080443   \n",
       "average_review_length       0.037369      -0.079183         -0.116295   \n",
       "average_review_sentiment    0.097188       0.073806          0.130448   \n",
       "number_funny_votes          0.117472       0.060658          0.060595   \n",
       "number_cool_votes           0.188598       0.113262          0.114094   \n",
       "number_useful_votes         0.165775       0.083832          0.094000   \n",
       "average_number_friends      0.015261       0.016557          0.028307   \n",
       "average_days_on_yelp        0.129901       0.045057         -0.045849   \n",
       "average_number_fans         0.017794       0.024901          0.018120   \n",
       "average_review_count        0.026846       0.040692          0.031203   \n",
       "average_number_years_elite  0.099141       0.094233          0.083062   \n",
       "weekday_checkins            0.086857       0.057413          0.071334   \n",
       "weekend_checkins            0.123792       0.067527          0.081765   \n",
       "average_tip_length         -0.061549      -0.071286         -0.055163   \n",
       "number_tips                 0.186180       0.127854          0.116866   \n",
       "average_caption_length      0.015032       0.023226          0.059149   \n",
       "number_pics                 0.114528      -0.012150          0.020373   \n",
       "\n",
       "                            has_wifi  price_range  review_count     stars  \\\n",
       "alcohol?                    0.345032     0.349004      0.259836 -0.043332   \n",
       "good_for_kids               0.258887     0.205513      0.162469 -0.030382   \n",
       "has_bike_parking            0.235138     0.416044      0.155505  0.068084   \n",
       "has_wifi                    1.000000     0.240796      0.195737 -0.039857   \n",
       "price_range                 0.240796     1.000000      0.148277 -0.052565   \n",
       "review_count                0.195737     0.148277      1.000000  0.032413   \n",
       "stars                      -0.039857    -0.052565      0.032413  1.000000   \n",
       "take_reservations           0.312217     0.316105      0.187755 -0.024486   \n",
       "takes_credit_cards          0.155098     0.400742      0.119984  0.037748   \n",
       "average_review_age         -0.034258     0.189623      0.010070 -0.125645   \n",
       "average_review_length      -0.037712     0.003850      0.004748 -0.277081   \n",
       "average_review_sentiment    0.054699     0.089349      0.076265  0.782187   \n",
       "number_funny_votes          0.082213     0.073215      0.548164  0.001320   \n",
       "number_cool_votes           0.147320     0.119422      0.860767  0.043375   \n",
       "number_useful_votes         0.120622     0.098990      0.746949 -0.000066   \n",
       "average_number_friends      0.015937     0.087231      0.026206 -0.007629   \n",
       "average_days_on_yelp        0.000448     0.176133      0.050451 -0.038061   \n",
       "average_number_fans         0.023913     0.104221      0.000474 -0.031141   \n",
       "average_review_count        0.044006     0.122982     -0.002576 -0.066572   \n",
       "average_number_years_elite  0.082863     0.210487      0.014712 -0.064419   \n",
       "weekday_checkins            0.099400     0.044262      0.565412  0.007972   \n",
       "weekend_checkins            0.118358     0.068725      0.698360  0.012630   \n",
       "average_tip_length         -0.046675    -0.062605     -0.026216 -0.043203   \n",
       "number_tips                 0.148235     0.097271      0.840421  0.031368   \n",
       "average_caption_length      0.023354     0.032623      0.060201  0.085899   \n",
       "number_pics                 0.095858     0.149506      0.621626  0.053011   \n",
       "\n",
       "                            take_reservations  takes_credit_cards  \\\n",
       "alcohol?                             0.601670            0.190738   \n",
       "good_for_kids                        0.318729            0.150360   \n",
       "has_bike_parking                     0.160129            0.286298   \n",
       "has_wifi                             0.312217            0.155098   \n",
       "price_range                          0.316105            0.400742   \n",
       "review_count                         0.187755            0.119984   \n",
       "stars                               -0.024486            0.037748   \n",
       "take_reservations                    1.000000            0.127941   \n",
       "takes_credit_cards                   0.127941            1.000000   \n",
       "average_review_age                   0.064098            0.056399   \n",
       "average_review_length                0.046331           -0.081383   \n",
       "average_review_sentiment             0.086728            0.084171   \n",
       "number_funny_votes                   0.071131            0.049945   \n",
       "number_cool_votes                    0.129165            0.079879   \n",
       "number_useful_votes                  0.115583            0.077804   \n",
       "average_number_friends              -0.025522            0.027924   \n",
       "average_days_on_yelp                 0.048850            0.078443   \n",
       "average_number_fans                  0.001131           -0.007124   \n",
       "average_review_count                 0.010618           -0.005260   \n",
       "average_number_years_elite           0.063990            0.009551   \n",
       "weekday_checkins                     0.045924            0.040217   \n",
       "weekend_checkins                     0.068772            0.048758   \n",
       "average_tip_length                  -0.036298           -0.034953   \n",
       "number_tips                          0.114617            0.080907   \n",
       "average_caption_length               0.012976            0.044348   \n",
       "number_pics                          0.091564            0.050621   \n",
       "\n",
       "                            average_review_age  average_review_length  \\\n",
       "alcohol?                              0.139108               0.037369   \n",
       "good_for_kids                         0.055847              -0.079183   \n",
       "has_bike_parking                     -0.080443              -0.116295   \n",
       "has_wifi                             -0.034258              -0.037712   \n",
       "price_range                           0.189623               0.003850   \n",
       "review_count                          0.010070               0.004748   \n",
       "stars                                -0.125645              -0.277081   \n",
       "take_reservations                     0.064098               0.046331   \n",
       "takes_credit_cards                    0.056399              -0.081383   \n",
       "average_review_age                    1.000000               0.192355   \n",
       "average_review_length                 0.192355               1.000000   \n",
       "average_review_sentiment              0.003662              -0.133078   \n",
       "number_funny_votes                    0.032199               0.027662   \n",
       "number_cool_votes                     0.031577               0.027976   \n",
       "number_useful_votes                   0.028122               0.059979   \n",
       "average_number_friends                0.218990               0.083495   \n",
       "average_days_on_yelp                  0.820888               0.178872   \n",
       "average_number_fans                   0.243377               0.112397   \n",
       "average_review_count                  0.261623               0.088888   \n",
       "average_number_years_elite            0.377335               0.168261   \n",
       "weekday_checkins                      0.026615               0.002923   \n",
       "weekend_checkins                      0.031857               0.007801   \n",
       "average_tip_length                   -0.071930               0.085367   \n",
       "number_tips                           0.053226               0.006931   \n",
       "average_caption_length                0.000782               0.027558   \n",
       "number_pics                          -0.072083               0.079083   \n",
       "\n",
       "                            average_review_sentiment  number_funny_votes  \\\n",
       "alcohol?                                    0.097188            0.117472   \n",
       "good_for_kids                               0.073806            0.060658   \n",
       "has_bike_parking                            0.130448            0.060595   \n",
       "has_wifi                                    0.054699            0.082213   \n",
       "price_range                                 0.089349            0.073215   \n",
       "review_count                                0.076265            0.548164   \n",
       "stars                                       0.782187            0.001320   \n",
       "take_reservations                           0.086728            0.071131   \n",
       "takes_credit_cards                          0.084171            0.049945   \n",
       "average_review_age                          0.003662            0.032199   \n",
       "average_review_length                      -0.133078            0.027662   \n",
       "average_review_sentiment                    1.000000            0.026948   \n",
       "number_funny_votes                          0.026948            1.000000   \n",
       "number_cool_votes                           0.079057            0.725554   \n",
       "number_useful_votes                         0.035839            0.900795   \n",
       "average_number_friends                      0.064738            0.045171   \n",
       "average_days_on_yelp                        0.083046            0.054688   \n",
       "average_number_fans                         0.064385            0.028421   \n",
       "average_review_count                        0.045517            0.020624   \n",
       "average_number_years_elite                  0.099804            0.034570   \n",
       "weekday_checkins                            0.026093            0.358480   \n",
       "weekend_checkins                            0.038348            0.442432   \n",
       "average_tip_length                         -0.072295           -0.010952   \n",
       "number_tips                                 0.066869            0.502462   \n",
       "average_caption_length                      0.087239            0.030817   \n",
       "number_pics                                 0.053766            0.323042   \n",
       "\n",
       "                            number_cool_votes  number_useful_votes  \\\n",
       "alcohol?                             0.188598             0.165775   \n",
       "good_for_kids                        0.113262             0.083832   \n",
       "has_bike_parking                     0.114094             0.094000   \n",
       "has_wifi                             0.147320             0.120622   \n",
       "price_range                          0.119422             0.098990   \n",
       "review_count                         0.860767             0.746949   \n",
       "stars                                0.043375            -0.000066   \n",
       "take_reservations                    0.129165             0.115583   \n",
       "takes_credit_cards                   0.079879             0.077804   \n",
       "average_review_age                   0.031577             0.028122   \n",
       "average_review_length                0.027976             0.059979   \n",
       "average_review_sentiment             0.079057             0.035839   \n",
       "number_funny_votes                   0.725554             0.900795   \n",
       "number_cool_votes                    1.000000             0.863073   \n",
       "number_useful_votes                  0.863073             1.000000   \n",
       "average_number_friends               0.077186             0.038893   \n",
       "average_days_on_yelp                 0.077668             0.061881   \n",
       "average_number_fans                  0.050303             0.016645   \n",
       "average_review_count                 0.035827             0.006016   \n",
       "average_number_years_elite           0.061395             0.020459   \n",
       "weekday_checkins                     0.558951             0.449698   \n",
       "weekend_checkins                     0.683090             0.556505   \n",
       "average_tip_length                  -0.024879            -0.000147   \n",
       "number_tips                          0.774254             0.643396   \n",
       "average_caption_length               0.059901             0.051195   \n",
       "number_pics                          0.608928             0.479044   \n",
       "\n",
       "                            average_number_friends  average_days_on_yelp  \\\n",
       "alcohol?                                  0.015261              0.129901   \n",
       "good_for_kids                             0.016557              0.045057   \n",
       "has_bike_parking                          0.028307             -0.045849   \n",
       "has_wifi                                  0.015937              0.000448   \n",
       "price_range                               0.087231              0.176133   \n",
       "review_count                              0.026206              0.050451   \n",
       "stars                                    -0.007629             -0.038061   \n",
       "take_reservations                        -0.025522              0.048850   \n",
       "takes_credit_cards                        0.027924              0.078443   \n",
       "average_review_age                        0.218990              0.820888   \n",
       "average_review_length                     0.083495              0.178872   \n",
       "average_review_sentiment                  0.064738              0.083046   \n",
       "number_funny_votes                        0.045171              0.054688   \n",
       "number_cool_votes                         0.077186              0.077668   \n",
       "number_useful_votes                       0.038893              0.061881   \n",
       "average_number_friends                    1.000000              0.315304   \n",
       "average_days_on_yelp                      0.315304              1.000000   \n",
       "average_number_fans                       0.781161              0.320788   \n",
       "average_review_count                      0.545940              0.345481   \n",
       "average_number_years_elite                0.525380              0.467893   \n",
       "weekday_checkins                          0.047198              0.050006   \n",
       "weekend_checkins                          0.049970              0.059086   \n",
       "average_tip_length                       -0.064177             -0.080835   \n",
       "number_tips                               0.045645              0.085253   \n",
       "average_caption_length                    0.013508              0.030428   \n",
       "number_pics                               0.039468             -0.004153   \n",
       "\n",
       "                            average_number_fans  average_review_count  \\\n",
       "alcohol?                               0.017794              0.026846   \n",
       "good_for_kids                          0.024901              0.040692   \n",
       "has_bike_parking                       0.018120              0.031203   \n",
       "has_wifi                               0.023913              0.044006   \n",
       "price_range                            0.104221              0.122982   \n",
       "review_count                           0.000474             -0.002576   \n",
       "stars                                 -0.031141             -0.066572   \n",
       "take_reservations                      0.001131              0.010618   \n",
       "takes_credit_cards                    -0.007124             -0.005260   \n",
       "average_review_age                     0.243377              0.261623   \n",
       "average_review_length                  0.112397              0.088888   \n",
       "average_review_sentiment               0.064385              0.045517   \n",
       "number_funny_votes                     0.028421              0.020624   \n",
       "number_cool_votes                      0.050303              0.035827   \n",
       "number_useful_votes                    0.016645              0.006016   \n",
       "average_number_friends                 0.781161              0.545940   \n",
       "average_days_on_yelp                   0.320788              0.345481   \n",
       "average_number_fans                    1.000000              0.798637   \n",
       "average_review_count                   0.798637              1.000000   \n",
       "average_number_years_elite             0.625891              0.687701   \n",
       "weekday_checkins                       0.022206              0.020470   \n",
       "weekend_checkins                       0.024114              0.022202   \n",
       "average_tip_length                    -0.060695             -0.072228   \n",
       "number_tips                            0.010751              0.004984   \n",
       "average_caption_length                -0.008986             -0.030207   \n",
       "number_pics                           -0.004034             -0.018250   \n",
       "\n",
       "                            average_number_years_elite  weekday_checkins  \\\n",
       "alcohol?                                      0.099141          0.086857   \n",
       "good_for_kids                                 0.094233          0.057413   \n",
       "has_bike_parking                              0.083062          0.071334   \n",
       "has_wifi                                      0.082863          0.099400   \n",
       "price_range                                   0.210487          0.044262   \n",
       "review_count                                  0.014712          0.565412   \n",
       "stars                                        -0.064419          0.007972   \n",
       "take_reservations                             0.063990          0.045924   \n",
       "takes_credit_cards                            0.009551          0.040217   \n",
       "average_review_age                            0.377335          0.026615   \n",
       "average_review_length                         0.168261          0.002923   \n",
       "average_review_sentiment                      0.099804          0.026093   \n",
       "number_funny_votes                            0.034570          0.358480   \n",
       "number_cool_votes                             0.061395          0.558951   \n",
       "number_useful_votes                           0.020459          0.449698   \n",
       "average_number_friends                        0.525380          0.047198   \n",
       "average_days_on_yelp                          0.467893          0.050006   \n",
       "average_number_fans                           0.625891          0.022206   \n",
       "average_review_count                          0.687701          0.020470   \n",
       "average_number_years_elite                    1.000000          0.032237   \n",
       "weekday_checkins                              0.032237          1.000000   \n",
       "weekend_checkins                              0.038222          0.946914   \n",
       "average_tip_length                           -0.100687         -0.026548   \n",
       "number_tips                                   0.019674          0.801469   \n",
       "average_caption_length                       -0.036829          0.035011   \n",
       "number_pics                                  -0.029379          0.449483   \n",
       "\n",
       "                            weekend_checkins  average_tip_length  number_tips  \\\n",
       "alcohol?                            0.123792           -0.061549     0.186180   \n",
       "good_for_kids                       0.067527           -0.071286     0.127854   \n",
       "has_bike_parking                    0.081765           -0.055163     0.116866   \n",
       "has_wifi                            0.118358           -0.046675     0.148235   \n",
       "price_range                         0.068725           -0.062605     0.097271   \n",
       "review_count                        0.698360           -0.026216     0.840421   \n",
       "stars                               0.012630           -0.043203     0.031368   \n",
       "take_reservations                   0.068772           -0.036298     0.114617   \n",
       "takes_credit_cards                  0.048758           -0.034953     0.080907   \n",
       "average_review_age                  0.031857           -0.071930     0.053226   \n",
       "average_review_length               0.007801            0.085367     0.006931   \n",
       "average_review_sentiment            0.038348           -0.072295     0.066869   \n",
       "number_funny_votes                  0.442432           -0.010952     0.502462   \n",
       "number_cool_votes                   0.683090           -0.024879     0.774254   \n",
       "number_useful_votes                 0.556505           -0.000147     0.643396   \n",
       "average_number_friends              0.049970           -0.064177     0.045645   \n",
       "average_days_on_yelp                0.059086           -0.080835     0.085253   \n",
       "average_number_fans                 0.024114           -0.060695     0.010751   \n",
       "average_review_count                0.022202           -0.072228     0.004984   \n",
       "average_number_years_elite          0.038222           -0.100687     0.019674   \n",
       "weekday_checkins                    0.946914           -0.026548     0.801469   \n",
       "weekend_checkins                    1.000000           -0.030443     0.875127   \n",
       "average_tip_length                 -0.030443            1.000000    -0.041169   \n",
       "number_tips                         0.875127           -0.041169     1.000000   \n",
       "average_caption_length              0.031230            0.018240     0.053391   \n",
       "number_pics                         0.472853            0.001929     0.485913   \n",
       "\n",
       "                            average_caption_length  number_pics  \n",
       "alcohol?                                  0.015032     0.114528  \n",
       "good_for_kids                             0.023226    -0.012150  \n",
       "has_bike_parking                          0.059149     0.020373  \n",
       "has_wifi                                  0.023354     0.095858  \n",
       "price_range                               0.032623     0.149506  \n",
       "review_count                              0.060201     0.621626  \n",
       "stars                                     0.085899     0.053011  \n",
       "take_reservations                         0.012976     0.091564  \n",
       "takes_credit_cards                        0.044348     0.050621  \n",
       "average_review_age                        0.000782    -0.072083  \n",
       "average_review_length                     0.027558     0.079083  \n",
       "average_review_sentiment                  0.087239     0.053766  \n",
       "number_funny_votes                        0.030817     0.323042  \n",
       "number_cool_votes                         0.059901     0.608928  \n",
       "number_useful_votes                       0.051195     0.479044  \n",
       "average_number_friends                    0.013508     0.039468  \n",
       "average_days_on_yelp                      0.030428    -0.004153  \n",
       "average_number_fans                      -0.008986    -0.004034  \n",
       "average_review_count                     -0.030207    -0.018250  \n",
       "average_number_years_elite               -0.036829    -0.029379  \n",
       "weekday_checkins                          0.035011     0.449483  \n",
       "weekend_checkins                          0.031230     0.472853  \n",
       "average_tip_length                        0.018240     0.001929  \n",
       "number_tips                               0.053391     0.485913  \n",
       "average_caption_length                    1.000000     0.026895  \n",
       "number_pics                               0.026895     1.000000  "
      ]
     },
     "execution_count": 26,
     "metadata": {},
     "output_type": "execute_result"
    }
   ],
   "source": [
    "df.corr()"
   ]
  },
  {
   "cell_type": "markdown",
   "metadata": {},
   "source": [
    "To further visualize these relationships, we can plot certain features against our dependent variable, the Yelp rating. In the cell below we have provided the code to import Matplotlib. We can use Matplotlib's `.scatter()` method with the below syntax to plot what these correlations look like:\n",
    "\n",
    "```python\n",
    "plt.scatter(x_values_to_plot, y_values_to_plot, alpha=blending_val)\n",
    "```\n",
    "\n",
    "* `x_values_to_plot` are the values to be plotted along the x-axis\n",
    "* `y_values_to_plot` are the values to be plotted along the y-axis\n",
    "* `alpha=blending_val` is the blending value, or how transparent (0) or opaque (1) a plotted point is. This will help us distinguish areas of the plot with high point densities and low point densities\n",
    "\n",
    "Plot the three features that correlate most with Yelp rating (`average_review_sentiment`, `average_review_length`, `average_review_age`) against `stars`, our Yelp rating. Then plot a lowly correlating feature, such as `number_funny_votes`, against `stars`.\n",
    "\n",
    ">What is `average_review_sentiment`, you ask? `average_review_sentiment` is the average sentiment score for all reviews on a business' Yelp page. The sentiment score for a review was calculated using the sentiment analysis tool [VADER](https://github.com/cjhutto/vaderSentiment). VADER uses a labeled set of positive and negative words, along with codified rules of grammar, to estimate how positive or negative a statement is. Scores range from `-1`, most negative, to `+1`, most positive, with a score of `0` indicating a neutral statement. While not perfect, VADER does a good job at guessing the sentiment of text data!\n",
    "\n",
    "What kind of relationships do you see from the plots? Do you think these variables are good or bad features for our Yelp rating prediction model?"
   ]
  },
  {
   "cell_type": "code",
   "execution_count": 31,
   "metadata": {},
   "outputs": [
    {
     "data": {
      "image/png": "[encoded data removed]",
      "text/plain": [
       "<Figure size 432x288 with 1 Axes>"
      ]
     },
     "metadata": {
      "needs_background": "light"
     },
     "output_type": "display_data"
    }
   ],
   "source": [
    "from matplotlib import pyplot as plt\n",
    "\n",
    "# plot average_review_sentiment against stars here\n",
    "plt.scatter(df['average_review_sentiment'],df['stars'],alpha = 0.1)\n",
    "plt.xlabel('average_review_sentiment')\n",
    "plt.ylabel('Yelp Rating')\n",
    "plt.show()"
   ]
  },
  {
   "cell_type": "code",
   "execution_count": 32,
   "metadata": {},
   "outputs": [
    {
     "data": {
      "image/png": "[encoded data removed]",
      "text/plain": [
       "<Figure size 432x288 with 1 Axes>"
      ]
     },
     "metadata": {
      "needs_background": "light"
     },
     "output_type": "display_data"
    }
   ],
   "source": [
    "# plot average_review_length against stars here\n",
    "plt.scatter(df['average_review_length'],df['stars'],alpha = 0.4)\n",
    "plt.show()"
   ]
  },
  {
   "cell_type": "code",
   "execution_count": 34,
   "metadata": {},
   "outputs": [
    {
     "data": {
      "image/png": "[encoded data removed]",
      "text/plain": [
       "<Figure size 432x288 with 1 Axes>"
      ]
     },
     "metadata": {
      "needs_background": "light"
     },
     "output_type": "display_data"
    }
   ],
   "source": [
    "# plot average_review_age against stars here\n",
    "plt.scatter(df['average_review_age'],df['stars'],alpha = 0.4)\n",
    "plt.show()"
   ]
  },
  {
   "cell_type": "code",
   "execution_count": 35,
   "metadata": {},
   "outputs": [
    {
     "data": {
      "image/png": "[encoded data removed]",
      "text/plain": [
       "<Figure size 432x288 with 1 Axes>"
      ]
     },
     "metadata": {
      "needs_background": "light"
     },
     "output_type": "display_data"
    }
   ],
   "source": [
    "# plot number_funny_votes against stars here\n",
    "plt.scatter(df['number_funny_votes'],df['stars'],alpha = 0.4)\n",
    "plt.show()"
   ]
  },
  {
   "cell_type": "markdown",
   "metadata": {},
   "source": [
    "Why do you think `average_review_sentiment` correlates so well with Yelp rating?"
   ]
  },
  {
   "cell_type": "markdown",
   "metadata": {},
   "source": [
    "## Data Selection\n",
    "\n",
    "In order to put our data into a Linear Regression model, we need to separate out our features to model on and the Yelp ratings. From our correlation analysis we saw that the three features with the strongest correlations to Yelp rating are `average_review_sentiment`, `average_review_length`, and `average_review_age`. Since we want to dig a little deeper than `average_review_sentiment`, which understandably has a very high correlation with Yelp rating, let's choose to create our first model with `average_review_length` and `average_review_age` as features.\n",
    "\n",
    "Pandas lets us select one column of a DataFrame with the following syntax:\n",
    "\n",
    "```python\n",
    "subset_of_data = df['feature_to_select']\n",
    "```\n",
    "Pandas also lets us select multiple columns from a DataFrame with this syntax:\n",
    "\n",
    "```python\n",
    "subset_of_data = df[list_of_features_to_select]\n",
    "```\n",
    "Create a new DataFrame `features` that contains the columns we want to model on: `average_review_length` and `average_review_age`. Then create another DataFrame `ratings` that stores the value we want to predict, Yelp rating, or `stars` in `df`."
   ]
  },
  {
   "cell_type": "code",
   "execution_count": 37,
   "metadata": {
    "ExecuteTime": {
     "end_time": "2018-09-14T14:51:57.953014Z",
     "start_time": "2018-09-14T14:51:57.945658Z"
    }
   },
   "outputs": [],
   "source": [
    "features = df[['average_review_length','average_review_age']]\n",
    "ratings = df['stars']"
   ]
  },
  {
   "cell_type": "markdown",
   "metadata": {},
   "source": [
    "## Split the Data into Training and Testing Sets\n",
    "\n",
    "We are just about ready to model! But first, we need to break our data into a training set and a test set so we can evaluate how well our model performs. We'll use scikit-learn's `train_test_split` function to do this split, which is provided in the cell below. This function takes two required parameters: the data, or our features, followed by our dependent variable, in our case the Yelp rating. Set the optional parameter `test_size` to be `0.2`. Finally, set the optional parameter `random_state` to `1`. This will make it so your data is split in the same way as the data in our solution code. \n",
    "\n",
    "Remember, this function returns 4 items in this order:\n",
    "1. The training data (features), which we can assign to `X_train`\n",
    "2. The testing data (features), which we can assign to `X_test`\n",
    "3. The training dependent variable (Yelp rating), which we can assign to `y_train`\n",
    "4. The testing dependent variable (Yelp rating), which we can assign to `y_test`"
   ]
  },
  {
   "cell_type": "code",
   "execution_count": 39,
   "metadata": {},
   "outputs": [],
   "source": [
    "from sklearn.model_selection import train_test_split\n",
    "X_train,X_test,y_train,y_test = train_test_split(features,ratings,test_size=0.2, random_state=1)\n"
   ]
  },
  {
   "cell_type": "markdown",
   "metadata": {},
   "source": [
    "## Create and Train the Model\n",
    "\n",
    "Now that our data is split into training and testing sets, we can finally model! In the cell below we have provided the code to import `LinearRegression` from scikit-learn's `linear_model` module. Create a new `LinearRegression` object named model. The `.fit()` method will fit our Linear Regression model to our training data and calculate the coefficients for our features. Call the `.fit()` method on `model` with `X_train` and `y_train` as parameters. Just like that our model has now been trained on our training data!"
   ]
  },
  {
   "cell_type": "code",
   "execution_count": 50,
   "metadata": {},
   "outputs": [],
   "source": [
    "from sklearn.linear_model import LinearRegression\n"
   ]
  },
  {
   "cell_type": "code",
   "execution_count": 54,
   "metadata": {
    "ExecuteTime": {
     "end_time": "2018-09-14T14:51:58.631827Z",
     "start_time": "2018-09-14T14:51:58.619225Z"
    }
   },
   "outputs": [
    {
     "data": {
      "text/plain": [
       "LinearRegression()"
      ]
     },
     "execution_count": 54,
     "metadata": {},
     "output_type": "execute_result"
    }
   ],
   "source": [
    "model = LinearRegression()\n",
    "model.fit(X_train , y_train)\n"
   ]
  },
  {
   "cell_type": "markdown",
   "metadata": {},
   "source": [
    "## Evaluate and Understand the Model\n",
    "\n",
    "Now we can evaluate our model in a variety of ways. The first way will be by using the `.score()` method, which provides the R^2 value for our model. Remember, R^2 is the coefficient of determination, or a measure of how much of the variance in our dependent variable, the predicted Yelp rating, is explained by our independent variables, our feature data. R^2 values range from `0` to `1`, with `0` indicating that the created model does not fit our data at all, and with `1` indicating the model perfectly fits our feature data. Call `.score()` on our model with `X_train` and `y_train` as parameters to calculate our training R^2 score. Then call `.score()` again on model with `X_test` and `y_test` as parameters to calculate R^2 for our testing data. What do these R^2 values say about our model? Do you think these features alone are able to effectively predict Yelp ratings?"
   ]
  },
  {
   "cell_type": "code",
   "execution_count": 60,
   "metadata": {},
   "outputs": [
    {
     "data": {
      "text/plain": [
       "0.08250309566544889"
      ]
     },
     "execution_count": 60,
     "metadata": {},
     "output_type": "execute_result"
    }
   ],
   "source": [
    "model.score(X_train,y_train)\n"
   ]
  },
  {
   "cell_type": "code",
   "execution_count": 61,
   "metadata": {},
   "outputs": [
    {
     "data": {
      "text/plain": [
       "0.08083081210060561"
      ]
     },
     "execution_count": 61,
     "metadata": {},
     "output_type": "execute_result"
    }
   ],
   "source": [
    "model.score(X_test,y_test)\n"
   ]
  },
  {
   "cell_type": "markdown",
   "metadata": {},
   "source": [
    "After all that hard work, we can finally take a look at the coefficients on our different features! The model has an attribute `.coef_` which is an array of the feature coefficients determined by fitting our model to the training data. To make it easier for you to see which feature corresponds to which coefficient, we have provided some code in the cell that `zip`s together a list of our features with the coefficients and sorts them in descending order from most predictive to least predictive."
   ]
  },
  {
   "cell_type": "code",
   "execution_count": 62,
   "metadata": {},
   "outputs": [
    {
     "data": {
      "text/plain": [
       "[('average_review_length', -0.0009977176852074524),\n",
       " ('average_review_age', -0.00011621626836366473)]"
      ]
     },
     "execution_count": 62,
     "metadata": {},
     "output_type": "execute_result"
    }
   ],
   "source": [
    "sorted(list(zip(['average_review_length','average_review_age'],model.coef_)),key = lambda x: abs(x[1]),reverse=True)"
   ]
  },
  {
   "cell_type": "markdown",
   "metadata": {},
   "source": [
    "Lastly we can calculate the predicted Yelp ratings for our testing data and compare them to their actual Yelp ratings! Our model has a `.predict()` method which uses the model's coefficients to calculate the predicted Yelp rating. Call `.predict()` on `X_test` and assign the values to `y_predicted`. Use Matplotlib to plot `y_test` vs `y_predicted`. For a perfect linear regression model we would expect to see the data plotted along the line `y = x`, indicating homoscedasticity. Is this the case? If not, why not? Would you call this model heteroscedastic or homoscedastic?"
   ]
  },
  {
   "cell_type": "code",
   "execution_count": 69,
   "metadata": {
    "ExecuteTime": {
     "end_time": "2018-09-14T14:51:58.656842Z",
     "start_time": "2018-09-14T14:51:58.653453Z"
    }
   },
   "outputs": [
    {
     "data": {
      "image/png": "[encoded data removed]",
      "text/plain": [
       "<Figure size 432x288 with 1 Axes>"
      ]
     },
     "metadata": {
      "needs_background": "light"
     },
     "output_type": "display_data"
    }
   ],
   "source": [
    "y_predicted = model.predict(X_test)\n",
    "plt.scatter(y_test,y_predicted)\n",
    "plt.xlabel('Yelp Rating')\n",
    "plt.ylabel('Predicted Yelp Rating')\n",
    "plt.ylim(1,5)\n",
    "plt.show()"
   ]
  },
  {
   "cell_type": "markdown",
   "metadata": {},
   "source": [
    "## Define Different Subsets of Data\n",
    "\n",
    "After evaluating the first model, you can see that `average_review_length` and `average_review_age` alone are not the best predictors for Yelp rating. Let's go do some more modeling with different subsets of features and see if we can achieve a more accurate model! In the cells below we have provided different lists of subsets of features that we will model with and evaluate. What other subsets of features would you want to test? Why do you think those feature sets are more predictive of Yelp rating than others? Create at least one more subset of features that you want to predict Yelp ratings from."
   ]
  },
  {
   "cell_type": "code",
   "execution_count": 83,
   "metadata": {},
   "outputs": [],
   "source": [
    "# subset of only average review sentiment\n",
    "sentiment = ['average_review_sentiment']"
   ]
  },
  {
   "cell_type": "code",
   "execution_count": 84,
   "metadata": {},
   "outputs": [],
   "source": [
    "# subset of all features that have a response range [0,1]\n",
    "binary_features = ['alcohol?','has_bike_parking','takes_credit_cards','good_for_kids','take_reservations','has_wifi']"
   ]
  },
  {
   "cell_type": "code",
   "execution_count": 85,
   "metadata": {},
   "outputs": [],
   "source": [
    "# subset of all features that vary on a greater range than [0,1]\n",
    "numeric_features = ['review_count','price_range','average_caption_length','number_pics','average_review_age','average_review_length','average_review_sentiment','number_funny_votes','number_cool_votes','number_useful_votes','average_tip_length','number_tips','average_number_friends','average_days_on_yelp','average_number_fans','average_review_count','average_number_years_elite','weekday_checkins','weekend_checkins']"
   ]
  },
  {
   "cell_type": "code",
   "execution_count": 86,
   "metadata": {},
   "outputs": [],
   "source": [
    "# all features\n",
    "all_features = binary_features + numeric_features"
   ]
  },
  {
   "cell_type": "code",
   "execution_count": 87,
   "metadata": {},
   "outputs": [],
   "source": [
    "# add your own feature subset here\n",
    "feature_subset = ['price_range']"
   ]
  },
  {
   "cell_type": "markdown",
   "metadata": {},
   "source": [
    "## Further Modeling"
   ]
  },
  {
   "cell_type": "markdown",
   "metadata": {},
   "source": [
    "Now that we have lists of different feature subsets, we can create new models from them. In order to more easily compare the performance of these new models, we have created a function for you below called `model_these_features()`. This function replicates the model building process you just completed with our first model! Take some time to review how the function works, analyzing it line by line. Fill in the empty comments with an explanation of the task the code beneath it is performing."
   ]
  },
  {
   "cell_type": "code",
   "execution_count": 76,
   "metadata": {},
   "outputs": [],
   "source": [
    "import numpy as np\n",
    "\n",
    "# take a list of features to model as a parameter\n",
    "def model_these_features(feature_list):\n",
    "    \n",
    "    # \n",
    "    ratings = df.loc[:,'stars']\n",
    "    features = df.loc[:,feature_list]\n",
    "    \n",
    "    # \n",
    "    X_train, X_test, y_train, y_test = train_test_split(features, ratings, test_size = 0.2, random_state = 1)\n",
    "    \n",
    "    # don't worry too much about these lines, just know that they allow the model to work when\n",
    "    # we model on just one feature instead of multiple features. Trust us on this one :)\n",
    "    if len(X_train.shape) < 2:\n",
    "        X_train = np.array(X_train).reshape(-1,1)\n",
    "        X_test = np.array(X_test).reshape(-1,1)\n",
    "    \n",
    "    # \n",
    "    model = LinearRegression()\n",
    "    model.fit(X_train,y_train)\n",
    "    \n",
    "    # \n",
    "    print('Train Score:', model.score(X_train,y_train))\n",
    "    print('Test Score:', model.score(X_test,y_test))\n",
    "    \n",
    "    # print the model features and their corresponding coefficients, from most predictive to least predictive\n",
    "    print(sorted(list(zip(feature_list,model.coef_)),key = lambda x: abs(x[1]),reverse=True))\n",
    "    \n",
    "    # \n",
    "    y_predicted = model.predict(X_test)\n",
    "    \n",
    "    # \n",
    "    plt.scatter(y_test,y_predicted)\n",
    "    plt.xlabel('Yelp Rating')\n",
    "    plt.ylabel('Predicted Yelp Rating')\n",
    "    plt.ylim(1,5)\n",
    "    plt.show()"
   ]
  },
  {
   "cell_type": "code",
   "execution_count": 77,
   "metadata": {},
   "outputs": [
    {
     "name": "stdout",
     "output_type": "stream",
     "text": [
      "Train Score: 0.00273518518581628\n",
      "Test Score: 0.0026676219581159843\n",
      "[('p', -0.051205196068917096)]\n"
     ]
    },
    {
     "data": {
      "image/png": "[encoded data removed]",
      "text/plain": [
       "<Figure size 432x288 with 1 Axes>"
      ]
     },
     "metadata": {
      "needs_background": "light"
     },
     "output_type": "display_data"
    }
   ],
   "source": [
    "model_these_features('price_range')"
   ]
  },
  {
   "cell_type": "code",
   "execution_count": 80,
   "metadata": {},
   "outputs": [
    {
     "name": "stdout",
     "output_type": "stream",
     "text": [
      "Train Score: 0.004232802544626657\n",
      "Test Score: 0.003606542605958274\n",
      "[('a', -0.059652177988810534)]\n"
     ]
    },
    {
     "data": {
      "image/png": "[encoded data removed]",
      "text/plain": [
       "<Figure size 432x288 with 1 Axes>"
      ]
     },
     "metadata": {
      "needs_background": "light"
     },
     "output_type": "display_data"
    }
   ],
   "source": [
    " model_these_features('average_number_years_elite')"
   ]
  },
  {
   "cell_type": "markdown",
   "metadata": {},
   "source": [
    "Once you feel comfortable with the steps of the function, run models on the following subsets of data using `model_these_features()`:\n",
    "* `sentiment`: only `average_review_sentiment`\n",
    "* `binary_features`: all features that have a response range [0,1]\n",
    "* `numeric_features`: all features that vary on a greater range than [0,1]\n",
    "* `all_features`: all features\n",
    "* `feature_subset`: your own feature subset\n",
    "\n",
    "How does changing the feature sets affect the model's R^2 value? Which features are most important to predicting Yelp rating in the different models? Which models appear more or less homoscedastic?"
   ]
  },
  {
   "cell_type": "code",
   "execution_count": 91,
   "metadata": {},
   "outputs": [
    {
     "name": "stdout",
     "output_type": "stream",
     "text": [
      "Train Score: 0.6118980950438655\n",
      "Test Score: 0.6114021046919492\n",
      "[('average_review_sentiment', 2.3033908433749612)]\n"
     ]
    },
    {
     "data": {
      "image/png": "[encoded data removed]",
      "text/plain": [
       "<Figure size 432x288 with 1 Axes>"
      ]
     },
     "metadata": {
      "needs_background": "light"
     },
     "output_type": "display_data"
    }
   ],
   "source": [
    "# create a model on sentiment here\n",
    "model_these_features(sentiment)"
   ]
  },
  {
   "cell_type": "code",
   "execution_count": 89,
   "metadata": {},
   "outputs": [
    {
     "name": "stdout",
     "output_type": "stream",
     "text": [
      "Train Score: 0.012223180709591164\n",
      "Test Score: 0.010119542202269072\n",
      "[('has_bike_parking', 0.19003008208038988), ('alcohol?', -0.14549670708138188), ('has_wifi', -0.1318739757776259), ('good_for_kids', -0.08632485990337416), ('takes_credit_cards', 0.071755364921953), ('take_reservations', 0.04526558530451624)]\n"
     ]
    },
    {
     "data": {
      "image/png": "[encoded data removed]",
      "text/plain": [
       "<Figure size 432x288 with 1 Axes>"
      ]
     },
     "metadata": {
      "needs_background": "light"
     },
     "output_type": "display_data"
    }
   ],
   "source": [
    "# create a model on all binary features here\n",
    "model_these_features(binary_features)"
   ]
  },
  {
   "cell_type": "code",
   "execution_count": 108,
   "metadata": {},
   "outputs": [
    {
     "name": "stdout",
     "output_type": "stream",
     "text": [
      "Train Score: 0.6734992593766658\n",
      "Test Score: 0.6713318798120151\n",
      "[('average_review_sentiment', 2.2721076642095714), ('price_range', -0.08046080962701326), ('average_number_years_elite', -0.07190366288054215), ('average_caption_length', -0.00334706600778448), ('number_pics', -0.0029565028128954863), ('number_tips', -0.0015953050789045838), ('number_cool_votes', 0.0011468839227079775), ('average_number_fans', 0.0010510602097412254), ('average_review_length', -0.0005813655692093357), ('average_tip_length', -0.0005322032063459733), ('number_useful_votes', -0.0002320378475871201), ('average_review_count', -0.0002243170289501482), ('average_review_age', -0.00016930608165055923), ('average_days_on_yelp', 0.00012878025876674438), ('weekday_checkins', 5.91858075448613e-05), ('weekend_checkins', -5.518176206999151e-05), ('average_number_friends', 4.8269921116315975e-05), ('review_count', -3.483483763748981e-05), ('number_funny_votes', -7.884395673808679e-06)]\n"
     ]
    },
    {
     "data": {
      "image/png": "[encoded data removed]",
      "text/plain": [
       "<Figure size 432x288 with 1 Axes>"
      ]
     },
     "metadata": {
      "needs_background": "light"
     },
     "output_type": "display_data"
    }
   ],
   "source": [
    "# create a model on all numeric features here\n",
    "model_these_features(numeric_features)"
   ]
  },
  {
   "cell_type": "code",
   "execution_count": 109,
   "metadata": {},
   "outputs": [
    {
     "name": "stdout",
     "output_type": "stream",
     "text": [
      "Train Score: 0.6807828861895334\n",
      "Test Score: 0.6782129045869247\n",
      "[('average_review_sentiment', 2.2808456996623825), ('alcohol?', -0.14991498593470284), ('has_wifi', -0.12155382629261363), ('good_for_kids', -0.1180781442201382), ('price_range', -0.06486730150043177), ('average_number_years_elite', -0.06278939713895364), ('has_bike_parking', 0.027296969912292805), ('takes_credit_cards', 0.024451837853653652), ('take_reservations', 0.014134559172969846), ('number_pics', -0.0013133612300796843), ('average_number_fans', 0.0010267986822656814), ('number_cool_votes', 0.0009723722734409323), ('number_tips', -0.0008546563320873921), ('average_caption_length', -0.0006472749798195219), ('average_review_length', -0.0005896257920272453), ('average_tip_length', -0.00042052175034042557), ('number_useful_votes', -0.00027150641256153645), ('average_review_count', -0.000233983569025111), ('average_review_age', -0.00015776544111324774), ('average_days_on_yelp', 0.0001232614766288456), ('review_count', 0.00010112259377362226), ('weekend_checkins', -9.239617469638006e-05), ('weekday_checkins', 6.153909123144103e-05), ('number_funny_votes', 4.8479351025075246e-05), ('average_number_friends', 2.069584037372081e-05)]\n"
     ]
    },
    {
     "data": {
      "image/png": "[encoded data removed]",
      "text/plain": [
       "<Figure size 432x288 with 1 Axes>"
      ]
     },
     "metadata": {
      "needs_background": "light"
     },
     "output_type": "display_data"
    }
   ],
   "source": [
    "# create a model on all features here\n",
    "model_these_features(all_features)"
   ]
  },
  {
   "cell_type": "code",
   "execution_count": null,
   "metadata": {},
   "outputs": [],
   "source": [
    "# create a model on your feature subset here\n"
   ]
  },
  {
   "cell_type": "markdown",
   "metadata": {},
   "source": [
    "## Danielle's Delicious Delicacies' Debut\n",
    "\n",
    "You've loaded the data, cleaned it, modeled it, and evaluated it. You're tired, but glowing with pride after all the hard work. You close your eyes and can clearly see opening day of Danielle's Delicious Delicacies with a line out the door. But what will your Yelp rating be? Let's use our model to make a prediction.\n",
    "\n",
    "Our best model was the model using all features, so we'll work with this model again. In the cell below print `all_features` to get a reminder of what features we are working with."
   ]
  },
  {
   "cell_type": "code",
   "execution_count": 96,
   "metadata": {
    "ExecuteTime": {
     "end_time": "2018-09-14T14:52:25.658575Z",
     "start_time": "2018-09-14T14:52:25.654756Z"
    }
   },
   "outputs": [
    {
     "name": "stdout",
     "output_type": "stream",
     "text": [
      "['alcohol?', 'has_bike_parking', 'takes_credit_cards', 'good_for_kids', 'take_reservations', 'has_wifi', 'review_count', 'price_range', 'average_caption_length', 'number_pics', 'average_review_age', 'average_review_length', 'average_review_sentiment', 'number_funny_votes', 'number_cool_votes', 'number_useful_votes', 'average_tip_length', 'number_tips', 'average_number_friends', 'average_days_on_yelp', 'average_number_fans', 'average_review_count', 'average_number_years_elite', 'weekday_checkins', 'weekend_checkins']\n"
     ]
    }
   ],
   "source": [
    "print(all_features)"
   ]
  },
  {
   "cell_type": "markdown",
   "metadata": {},
   "source": [
    "Run the cell below to grab all the features and retrain our model on them."
   ]
  },
  {
   "cell_type": "code",
   "execution_count": 110,
   "metadata": {},
   "outputs": [
    {
     "data": {
      "text/plain": [
       "LinearRegression()"
      ]
     },
     "execution_count": 110,
     "metadata": {},
     "output_type": "execute_result"
    }
   ],
   "source": [
    "features = df.loc[:,all_features]\n",
    "ratings = df.loc[:,'stars']\n",
    "X_train, X_test, y_train, y_test = train_test_split(features, ratings, test_size = 0.2, random_state = 1)\n",
    "model = LinearRegression()\n",
    "model.fit(X_train,y_train)"
   ]
  },
  {
   "cell_type": "markdown",
   "metadata": {},
   "source": [
    "To give you some perspective on the restaurants already out there, we have provided the mean, minimum, and maximum values for each feature below. Will Danielle's Delicious Delicacies be just another average restaurant, or will it be a 5 star behemoth amongst the masses?"
   ]
  },
  {
   "cell_type": "code",
   "execution_count": 111,
   "metadata": {},
   "outputs": [
    {
     "data": {
      "text/html": [
       "<div>\n",
       "<style scoped>\n",
       "    .dataframe tbody tr th:only-of-type {\n",
       "        vertical-align: middle;\n",
       "    }\n",
       "\n",
       "    .dataframe tbody tr th {\n",
       "        vertical-align: top;\n",
       "    }\n",
       "\n",
       "    .dataframe thead th {\n",
       "        text-align: right;\n",
       "    }\n",
       "</style>\n",
       "<table border=\"1\" class=\"dataframe\">\n",
       "  <thead>\n",
       "    <tr style=\"text-align: right;\">\n",
       "      <th></th>\n",
       "      <th>Feature</th>\n",
       "      <th>Mean</th>\n",
       "      <th>Min</th>\n",
       "      <th>Max</th>\n",
       "    </tr>\n",
       "  </thead>\n",
       "  <tbody>\n",
       "    <tr>\n",
       "      <th>0</th>\n",
       "      <td>alcohol?</td>\n",
       "      <td>0.140610</td>\n",
       "      <td>0.000000</td>\n",
       "      <td>1.000000</td>\n",
       "    </tr>\n",
       "    <tr>\n",
       "      <th>1</th>\n",
       "      <td>has_bike_parking</td>\n",
       "      <td>0.350692</td>\n",
       "      <td>0.000000</td>\n",
       "      <td>1.000000</td>\n",
       "    </tr>\n",
       "    <tr>\n",
       "      <th>2</th>\n",
       "      <td>takes_credit_cards</td>\n",
       "      <td>0.700243</td>\n",
       "      <td>0.000000</td>\n",
       "      <td>1.000000</td>\n",
       "    </tr>\n",
       "    <tr>\n",
       "      <th>3</th>\n",
       "      <td>good_for_kids</td>\n",
       "      <td>0.279029</td>\n",
       "      <td>0.000000</td>\n",
       "      <td>1.000000</td>\n",
       "    </tr>\n",
       "    <tr>\n",
       "      <th>4</th>\n",
       "      <td>take_reservations</td>\n",
       "      <td>0.106086</td>\n",
       "      <td>0.000000</td>\n",
       "      <td>1.000000</td>\n",
       "    </tr>\n",
       "    <tr>\n",
       "      <th>5</th>\n",
       "      <td>has_wifi</td>\n",
       "      <td>0.134968</td>\n",
       "      <td>0.000000</td>\n",
       "      <td>1.000000</td>\n",
       "    </tr>\n",
       "    <tr>\n",
       "      <th>6</th>\n",
       "      <td>review_count</td>\n",
       "      <td>31.797310</td>\n",
       "      <td>3.000000</td>\n",
       "      <td>7968.000000</td>\n",
       "    </tr>\n",
       "    <tr>\n",
       "      <th>7</th>\n",
       "      <td>price_range</td>\n",
       "      <td>1.035855</td>\n",
       "      <td>0.000000</td>\n",
       "      <td>4.000000</td>\n",
       "    </tr>\n",
       "    <tr>\n",
       "      <th>8</th>\n",
       "      <td>average_caption_length</td>\n",
       "      <td>2.831829</td>\n",
       "      <td>0.000000</td>\n",
       "      <td>140.000000</td>\n",
       "    </tr>\n",
       "    <tr>\n",
       "      <th>9</th>\n",
       "      <td>number_pics</td>\n",
       "      <td>1.489939</td>\n",
       "      <td>0.000000</td>\n",
       "      <td>1150.000000</td>\n",
       "    </tr>\n",
       "    <tr>\n",
       "      <th>10</th>\n",
       "      <td>average_review_age</td>\n",
       "      <td>1175.501021</td>\n",
       "      <td>71.555556</td>\n",
       "      <td>4727.333333</td>\n",
       "    </tr>\n",
       "    <tr>\n",
       "      <th>11</th>\n",
       "      <td>average_review_length</td>\n",
       "      <td>596.463567</td>\n",
       "      <td>62.400000</td>\n",
       "      <td>4229.000000</td>\n",
       "    </tr>\n",
       "    <tr>\n",
       "      <th>12</th>\n",
       "      <td>average_review_sentiment</td>\n",
       "      <td>0.554935</td>\n",
       "      <td>-0.995200</td>\n",
       "      <td>0.996575</td>\n",
       "    </tr>\n",
       "    <tr>\n",
       "      <th>13</th>\n",
       "      <td>number_funny_votes</td>\n",
       "      <td>15.617091</td>\n",
       "      <td>0.000000</td>\n",
       "      <td>36822.000000</td>\n",
       "    </tr>\n",
       "    <tr>\n",
       "      <th>14</th>\n",
       "      <td>number_cool_votes</td>\n",
       "      <td>18.495973</td>\n",
       "      <td>0.000000</td>\n",
       "      <td>6572.000000</td>\n",
       "    </tr>\n",
       "    <tr>\n",
       "      <th>15</th>\n",
       "      <td>number_useful_votes</td>\n",
       "      <td>43.515279</td>\n",
       "      <td>0.000000</td>\n",
       "      <td>38357.000000</td>\n",
       "    </tr>\n",
       "    <tr>\n",
       "      <th>16</th>\n",
       "      <td>average_tip_length</td>\n",
       "      <td>45.643426</td>\n",
       "      <td>0.000000</td>\n",
       "      <td>500.000000</td>\n",
       "    </tr>\n",
       "    <tr>\n",
       "      <th>17</th>\n",
       "      <td>number_tips</td>\n",
       "      <td>6.285217</td>\n",
       "      <td>0.000000</td>\n",
       "      <td>3581.000000</td>\n",
       "    </tr>\n",
       "    <tr>\n",
       "      <th>18</th>\n",
       "      <td>average_number_friends</td>\n",
       "      <td>105.132000</td>\n",
       "      <td>1.000000</td>\n",
       "      <td>4219.000000</td>\n",
       "    </tr>\n",
       "    <tr>\n",
       "      <th>19</th>\n",
       "      <td>average_days_on_yelp</td>\n",
       "      <td>2005.367009</td>\n",
       "      <td>76.000000</td>\n",
       "      <td>4860.000000</td>\n",
       "    </tr>\n",
       "    <tr>\n",
       "      <th>20</th>\n",
       "      <td>average_number_fans</td>\n",
       "      <td>11.590148</td>\n",
       "      <td>0.000000</td>\n",
       "      <td>1174.666667</td>\n",
       "    </tr>\n",
       "    <tr>\n",
       "      <th>21</th>\n",
       "      <td>average_review_count</td>\n",
       "      <td>122.110660</td>\n",
       "      <td>0.666667</td>\n",
       "      <td>6335.000000</td>\n",
       "    </tr>\n",
       "    <tr>\n",
       "      <th>22</th>\n",
       "      <td>average_number_years_elite</td>\n",
       "      <td>0.923313</td>\n",
       "      <td>0.000000</td>\n",
       "      <td>10.666667</td>\n",
       "    </tr>\n",
       "    <tr>\n",
       "      <th>23</th>\n",
       "      <td>weekday_checkins</td>\n",
       "      <td>45.385094</td>\n",
       "      <td>0.000000</td>\n",
       "      <td>73830.000000</td>\n",
       "    </tr>\n",
       "    <tr>\n",
       "      <th>24</th>\n",
       "      <td>weekend_checkins</td>\n",
       "      <td>49.612515</td>\n",
       "      <td>0.000000</td>\n",
       "      <td>64647.000000</td>\n",
       "    </tr>\n",
       "  </tbody>\n",
       "</table>\n",
       "</div>"
      ],
      "text/plain": [
       "                       Feature         Mean        Min           Max\n",
       "0                     alcohol?     0.140610   0.000000      1.000000\n",
       "1             has_bike_parking     0.350692   0.000000      1.000000\n",
       "2           takes_credit_cards     0.700243   0.000000      1.000000\n",
       "3                good_for_kids     0.279029   0.000000      1.000000\n",
       "4            take_reservations     0.106086   0.000000      1.000000\n",
       "5                     has_wifi     0.134968   0.000000      1.000000\n",
       "6                 review_count    31.797310   3.000000   7968.000000\n",
       "7                  price_range     1.035855   0.000000      4.000000\n",
       "8       average_caption_length     2.831829   0.000000    140.000000\n",
       "9                  number_pics     1.489939   0.000000   1150.000000\n",
       "10          average_review_age  1175.501021  71.555556   4727.333333\n",
       "11       average_review_length   596.463567  62.400000   4229.000000\n",
       "12    average_review_sentiment     0.554935  -0.995200      0.996575\n",
       "13          number_funny_votes    15.617091   0.000000  36822.000000\n",
       "14           number_cool_votes    18.495973   0.000000   6572.000000\n",
       "15         number_useful_votes    43.515279   0.000000  38357.000000\n",
       "16          average_tip_length    45.643426   0.000000    500.000000\n",
       "17                 number_tips     6.285217   0.000000   3581.000000\n",
       "18      average_number_friends   105.132000   1.000000   4219.000000\n",
       "19        average_days_on_yelp  2005.367009  76.000000   4860.000000\n",
       "20         average_number_fans    11.590148   0.000000   1174.666667\n",
       "21        average_review_count   122.110660   0.666667   6335.000000\n",
       "22  average_number_years_elite     0.923313   0.000000     10.666667\n",
       "23            weekday_checkins    45.385094   0.000000  73830.000000\n",
       "24            weekend_checkins    49.612515   0.000000  64647.000000"
      ]
     },
     "execution_count": 111,
     "metadata": {},
     "output_type": "execute_result"
    }
   ],
   "source": [
    "pd.DataFrame(list(zip(features.columns,features.describe().loc['mean'],features.describe().loc['min'],features.describe().loc['max'])),columns=['Feature','Mean','Min','Max'])"
   ]
  },
  {
   "cell_type": "markdown",
   "metadata": {},
   "source": [
    "Based on your plans for the restaurant, how you expect your customers to post on your Yelp page, and the values above, fill in the blanks in the NumPy array below with your desired values. The first blank corresponds with the feature at `index=0` in the DataFrame above, `alcohol?`, and the last blank corresponds to the feature at ``index=24``, `weekend_checkins`. Make sure to enter either `0` or `1` for all binary features, and if you aren't sure of what value to put for a feature, select the mean from the DataFrame above. After you enter the values, run the prediction cell below to receive your Yelp rating! How is Danielle's Delicious Delicacies debut going to be?"
   ]
  },
  {
   "cell_type": "code",
   "execution_count": 118,
   "metadata": {
    "ExecuteTime": {
     "end_time": "2018-09-13T18:35:02.243266Z",
     "start_time": "2018-09-13T18:34:39.238Z"
    }
   },
   "outputs": [],
   "source": [
    "danielles_delicious_delicacies = np.array([1,1,1,0,1,1,10,2,3,10,10,1200,0.9,3,6,5,50,3,50,1800,12,123,0.5,0,0]).reshape(1,-1)"
   ]
  },
  {
   "cell_type": "code",
   "execution_count": 119,
   "metadata": {
    "ExecuteTime": {
     "end_time": "2018-09-13T18:35:02.244175Z",
     "start_time": "2018-09-13T18:34:39.239Z"
    }
   },
   "outputs": [
    {
     "data": {
      "text/plain": [
       "array([4.0061532])"
      ]
     },
     "execution_count": 119,
     "metadata": {},
     "output_type": "execute_result"
    }
   ],
   "source": [
    "model.predict(danielles_delicious_delicacies)"
   ]
  },
  {
   "cell_type": "markdown",
   "metadata": {},
   "source": [
    "## Next Steps\n",
    "\n",
    "You have successfully built a linear regression model that predicts a restaurant's Yelp rating! As you have seen, it can be pretty hard to predict a rating like this even when we have a plethora of data. What other questions come to your mind when you see the data we have? What insights do you think could come from a different kind of analysis? Here are some ideas to ponder:\n",
    "\n",
    "* Can we predict the cuisine of a restaurant based on the users that review it?\n",
    "* What restaurants are similar to each other in ways besides cuisine?\n",
    "* Are there different restaurant vibes, and what kind of restaurants fit these conceptions?\n",
    "* How does social media status affect a restaurant's credibility and visibility?\n",
    "\n",
    "As you progress further into the field of data science, you will be able to create models that address these questions and many more! But in the meantime, get back to working on that burgeoning restaurant business plan."
   ]
  }
 ],
 "metadata": {
  "kernelspec": {
   "display_name": "Python 3 (ipykernel)",
   "language": "python",
   "name": "python3"
  },
  "language_info": {
   "codemirror_mode": {
    "name": "ipython",
    "version": 3
   },
   "file_extension": ".py",
   "mimetype": "text/x-python",
   "name": "python",
   "nbconvert_exporter": "python",
   "pygments_lexer": "ipython3",
   "version": "3.9.7"
  }
 },
 "nbformat": 4,
 "nbformat_minor": 2
}
